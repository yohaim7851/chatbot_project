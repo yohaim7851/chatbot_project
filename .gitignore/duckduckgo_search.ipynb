{
 "cells": [
  {
   "cell_type": "code",
   "execution_count": 7,
   "metadata": {},
   "outputs": [
    {
     "data": {
      "text/plain": [
       "AIMessage(content='2025년 현대자동차의 미국 시장 전망은 여러 요인에 따라 달라질 수 있지만, 여러 전문가와 산업 분석가들이 고려하는 몇 가지 주요 포인트를 정리해 보겠습니다.\\n\\n1. **전기차(EV) 성장**: 현대자동차는 전기차 시장에 적극적으로 투자하고 있으며, 이를 통해 미국 내 전기차 점유율을 확대하려고 하고 있습니다. 2025년에는 다양한 전기차 모델과 함께 충전 인프라가 개선될 것으로 예상되어 소비자들의 선택이 더 다양해질 것입니다.\\n\\n2. **SUV 및 크로스오버 인기**: 미국 시장에서 SUV와 크로스오버 차량의 수요가 계속 증가하고 있습니다. 현대는 이 시장에 적합한 모델들을 출시하고 있으며, 이로 인해 판매량이 증가할 전망입니다.\\n\\n3. **자율주행 기술**: 현대자동차는 자율주행 기술 개발에도 많은 투자를 하고 있습니다. 2025년까지 일부 자율주행 기능이 탑재된 차량들이 출시된다면, 소비자들의 관심을 끌 것으로 예상됩니다.\\n\\n4. **경쟁 심화**: 미국 시장에서는 경쟁이 치열해지고 있으며, 테슬라, 포드, GM 등 기존의 큰 브랜드들이 EV 시장에서 강한 입지를 가지고 있습니다. 현대차가 이들과의 경쟁에서 어떻게 차별화할지가 중요합니다.\\n\\n5. **환경 규제 강화**: 미국 내 환경 규제가 강화됨에 따라, 제조사들은 더 친환경적인 차량을 출시해야 합니다. 현대는 이러한 변화에 잘 대응하고 있으며, 이에 따른 긍정적인 이미지 구축도 가능할 것입니다.\\n\\n결론적으로, 현대자동차는 2025년 미국 시장에서 긍정적인 성장 가능성을 가지고 있지만, 시장의 변동성과 경쟁 상황에 따라서 성과는 달라질 수 있습니다.', additional_kwargs={'refusal': None}, response_metadata={'token_usage': {'completion_tokens': 398, 'prompt_tokens': 21, 'total_tokens': 419, 'completion_tokens_details': {'accepted_prediction_tokens': 0, 'audio_tokens': 0, 'reasoning_tokens': 0, 'rejected_prediction_tokens': 0}, 'prompt_tokens_details': {'audio_tokens': 0, 'cached_tokens': 0}}, 'model_provider': 'openai', 'model_name': 'gpt-4o-mini-2024-07-18', 'system_fingerprint': 'fp_560af6e559', 'id': 'chatcmpl-CTN4arvyVuldBqNubBXjs0HNWX1Io', 'service_tier': 'default', 'finish_reason': 'stop', 'logprobs': None}, id='lc_run--2d354e6e-6198-45db-9f22-245e37083e78-0', usage_metadata={'input_tokens': 21, 'output_tokens': 398, 'total_tokens': 419, 'input_token_details': {'audio': 0, 'cache_read': 0}, 'output_token_details': {'audio': 0, 'reasoning': 0}})"
      ]
     },
     "execution_count": 7,
     "metadata": {},
     "output_type": "execute_result"
    }
   ],
   "source": [
    "from langchain_openai import ChatOpenAI\n",
    "\n",
    "model = ChatOpenAI(model=\"gpt-4o-mini\")\n",
    "model.invoke(\"2025년 현대자동차 미국 시장 전망은 어떻게 되나요?\")"
   ]
  },
  {
   "cell_type": "code",
   "execution_count": 5,
   "metadata": {},
   "outputs": [
    {
     "name": "stdout",
     "output_type": "stream",
     "text": [
      "snippet: January 6, 2025 - 오젬픽은 본래 당뇨병 치료에 사용되었지만 체중 감량에도 효과가 있는 약물로, 2025년에는 오젬픽과 같은 체중 관리 약물에 대한 관심이 더욱 늘어날 것으로 보인다 . ... 립 케어 제품이 계속해서 진화하고 있다., title: Wwdkorea 2025년 주목해야 할 뷰티 & 웰니스 트렌드 9, link: https://www.wwdkorea.com/news/articleView.html?idxno=8509;\n",
      "snippet: March 9, 2025 - 왜 개인화된 영양제 앱 이 2025년에 대세가 됐을까? 헬스케어 시장이 완전 미쳤어요! 2025년 현재 개인 맞춤형 영양제 시장은 전 세계적으로 약 580억 달러 규모로 성장했고, 연간 성장률이 무려 15%를 넘어섰다고 해요., title: Jaenung 2025년 트렌드! 개인화된 영양제 추천을 위한 헬스케어 앱 UI/UX 디자인 완벽 가이드, link: https://www.jaenung.net/tree/16518;\n",
      "snippet: February 2, 2025 - 2025년 해외에서 주목받고 있는 건강 트렌드는 기술, 환경, 개인화된 솔루션을 바탕으로 빠르게 변화 하고 있습니다. 위에서 소개한 트렌드 중 자신의 라이프스타일에 맞는 것을 선택해 실천해 보세요., title: Tistory 2025년 해외 건강 트렌드: 전 세계에서 주목받는 ..., link: https://namdaruensis.tistory.com/entry/2025년-해외-건강-트렌드-전-세계에서-주목받는-라이프스타일-변화;\n",
      "snippet: January 16, 2025 - 개인의 DNA 분석 결과에 따라 최적화된 식단과 영양제를 추천하는 맞춤형 영양 서비스가 점점 대중화되고 있습니다. 2025년에는 더 많은 사람들이 자신의 유전적 특징과 건강 목표에 맞춘 맞춤형 식사를 이용하게 될 것 입니다., title: Talklavender 2025년에 주목받는 건강 트렌드, link: https://talklavender.com/entry/2025년에-주목받는-건강-트렌드\n"
     ]
    }
   ],
   "source": [
    "from langchain_community.tools import DuckDuckGoSearchResults \n",
    "\n",
    "search = DuckDuckGoSearchResults(results_separator=';\\n')\n",
    "docs = search.invoke(\"2025년 헬스 케어 트랜드는 어떻게 되나요?\")\n",
    "\n",
    "print(docs)\n"
   ]
  },
  {
   "cell_type": "code",
   "execution_count": 9,
   "metadata": {},
   "outputs": [],
   "source": [
    "from langchain_core.prompts import ChatPromptTemplate, MessagesPlaceholder\n",
    "\n",
    "question_answering_prompt = ChatPromptTemplate.from_messages(\n",
    "    [\n",
    "        (\n",
    "            \"system\",\n",
    "            \"사용자의 질문에 대해 아래 context에 기반하여 답변하라.:\\n\\n{context}\",\n",
    "        ),\n",
    "        MessagesPlaceholder(variable_name=\"messages\"),\n",
    "    ]\n",
    ")\n",
    "\n",
    "document_chain = question_answering_prompt | model"
   ]
  },
  {
   "cell_type": "code",
   "execution_count": 20,
   "metadata": {},
   "outputs": [
    {
     "name": "stdout",
     "output_type": "stream",
     "text": [
      "content='2025년 헬스케어 트렌드는 여러 가지 혁신적인 변화가 예상됩니다. 주요 트렌드는 다음과 같습니다:\\n\\n1. **개인화된 영양제**: 개인의 유전적 특징에 맞춘 맞춤형 영양 서비스가 대중화되고 있습니다. 이를 통해 개인에게 최적화된 식단과 영양제를 추천받을 수 있게 됩니다.\\n\\n2. **테크놀로지 기반 솔루션**: 헬스케어 분야에서 기술의 발전이 중요한 역할을 하고 있습니다. 예를 들어, 개인화된 영양제 앱의 사용이 증가하고 있으며, 이 시장은 전 세계적으로 약 580억 달러 규모로 성장하고 있습니다.\\n\\n3. **체중 관리 약물에 대한 관심 증가**: 오젬픽과 같은 체중 감량에 효과적인 약물에 대한 관심이 증가할 것으로 보입니다. 이는 당뇨병 치료에 사용되던 약물이지만, 체중 관리에서도 효과를 보이고 있기 때문입니다.\\n\\n4. **환경과 건강**: 건강 트렌드는 환경-conscious한 솔루션으로 빠르게 변화하고 있으며, 사용자들은 자신의 라이프스타일에 맞는 건강 관리를 선택할 수 있습니다.\\n\\n이러한 트렌드는 헬스케어 시장의 변화뿐만 아니라 일상적인 건강 관리 방식에도 많은 영향을 미칠 것으로 기대됩니다.' additional_kwargs={'refusal': None} response_metadata={'token_usage': {'completion_tokens': 291, 'prompt_tokens': 571, 'total_tokens': 862, 'completion_tokens_details': {'accepted_prediction_tokens': 0, 'audio_tokens': 0, 'reasoning_tokens': 0, 'rejected_prediction_tokens': 0}, 'prompt_tokens_details': {'audio_tokens': 0, 'cached_tokens': 0}}, 'model_provider': 'openai', 'model_name': 'gpt-4o-mini-2024-07-18', 'system_fingerprint': 'fp_560af6e559', 'id': 'chatcmpl-CTNCUA69XAx06y5vCh0okjaacp3od', 'service_tier': 'default', 'finish_reason': 'stop', 'logprobs': None} id='lc_run--88cd7790-c9dd-4957-bbc8-291b86ba1caf-0' usage_metadata={'input_tokens': 571, 'output_tokens': 291, 'total_tokens': 862, 'input_token_details': {'audio': 0, 'cache_read': 0}, 'output_token_details': {'audio': 0, 'reasoning': 0}}\n"
     ]
    }
   ],
   "source": [
    "from langchain.memory import ChatMessageHistory\n",
    "\n",
    "# 채팅 메시지를 저장할 메모리 객체 생성\n",
    "chat_history = ChatMessageHistory() \n",
    "# 사용자 질문을 메모리에 저장\n",
    "chat_history.add_user_message(\"2025년 헬스케어 트랜드는 어떻게 되나요?\") \n",
    "\n",
    "# 문서 검색하고 답변 생성\n",
    "answer = document_chain.invoke(\n",
    "    {\n",
    "        \"messages\": chat_history.messages,\n",
    "        \"context\": docs,\n",
    "    }\n",
    ")\n",
    "\n",
    "# 생성된 답변을 메모리에 저장\n",
    "chat_history.add_ai_message(answer) \n",
    "\n",
    "print(answer)\n"
   ]
  },
  {
   "cell_type": "code",
   "execution_count": 6,
   "metadata": {},
   "outputs": [],
   "source": [
    "# DuckDuckGo API wrapper를 사용하여 검색할 때 검색 매개변수를 설정하기 위한 클래스 import\n",
    "from langchain_community.utilities import DuckDuckGoSearchAPIWrapper\n",
    "\n",
    "# 한국 지역(\"kr-kr\")을 기준, 최근 일주일(\"w\") 내의 검색 결과를 가져오도록 초기화\n",
    "wrapper = DuckDuckGoSearchAPIWrapper(region=\"kr-kr\", time=\"w\")"
   ]
  },
  {
   "cell_type": "code",
   "execution_count": 7,
   "metadata": {},
   "outputs": [],
   "source": [
    "# 검색 기능을 위한 DuckDuckGoSearchResults 초기화\n",
    "search = DuckDuckGoSearchResults(\n",
    "    api_wrapper=wrapper,      # 앞에서 정의한 API wrapper를 사용\n",
    "    source=\"news\",            # 뉴스 소스에서만 검색하도록 지정\n",
    "    results_separator=';\\n'   # 결과 항목 사이에 구분자 사용 (세미콜론과 줄바꿈)\n",
    ")"
   ]
  },
  {
   "cell_type": "code",
   "execution_count": 8,
   "metadata": {},
   "outputs": [
    {
     "name": "stdout",
     "output_type": "stream",
     "text": [
      "snippet: 입력 2025-02-19 15:52. ... 현대차는 북미 자동차 판매가 늘며 2021년 6조 원대, 2022년 9조 원대, 2023년 15조 원대의 영업이익을 거뒀다. ... 미국 시장 ..., title: 트럼프 \"자동차 관세 25%\"…현대차 한달새 영업익 전망 5000억 감소 - 이투데이, link: https://www.etoday.co.kr/news/view/2446442;\n",
      "snippet: 현대자동차그룹의 전기차가 다시 한번 미국 연방 보조금 적용 대상에 포함될 전망이다. ... '를 가동하면서 북미 지역에서 생산된 2025년형 아이오닉5와 신규 모델 아이오닉9이 보조금 요건을 충족하게 됐다고 밝혔다. 당초 현대차는 미국 ira가 지난 2022년 통과된 ..., title: 현대차그룹, 美 연방정부 보조금 재적용 전망, 전기차 판매 확대 속도 | 디 이코노미, link: https://kr.economy.ac/news/2025/02/20250214195;\n",
      "snippet: 도널드 트럼프 대통령의 수입 자동차에 대한 관세 부과 예고에 현대자동차그룹이 현지 생산 확대와 소비자 서비스 프로그램 강화 등 대응책을 마련하고 있다. ... 2025-02-16 21:41:21. ... 이는 2024년 미국 내 현대차그룹 총 판매량 170만대의 65%에 해당하는 물량이다., title: \"美에 수출해 52조 흑자 내는데\"…트럼프 車관세 카운트다운, 업계 대책은 - 매일경제, link: https://www.mk.co.kr/news/business/11242229;\n",
      "snippet: 현대자동차는 '2025 전략' 추진을 위한 중장기 투자 규모, 수익성 및 시장 점유율 목표 등 '3대 핵심 재무 목표'도 공개했다. 스마트 모빌리티 솔루션 기업으로의 성공적 전환을 목표로 기존 사업 경쟁력 강화와 미래사업 역량 확보 등에 향후 6년간(~2025년) 총 ..., title: 현대차 '2025 전략' - 오토모티브 일렉트로닉스 매거진, link: https://www.autoelectronics.co.kr/article/articleView.asp?idx=3422\n"
     ]
    }
   ],
   "source": [
    "# \"로제의 신곡 APT에 대한 반응\"을 검색하고 결과를 docs에 저장\n",
    "docs = search.invoke(\"2025년 현대자동차 미국 시장 전망은 어떻게 되나요?\")\n",
    "\n",
    "# 검색 결과 출력\n",
    "print(docs)\n"
   ]
  },
  {
   "cell_type": "code",
   "execution_count": null,
   "metadata": {},
   "outputs": [
    {
     "data": {
      "text/plain": [
       "'snippet: 1 week ago - 입력 2025/10/12 19:02 · “연말까지 5kg 빼야지”… 단기 다이어트 노리는 사람, ‘이 전략’ 어떨까, title: Chosun 살 빨리 빼고 싶을 때… 달리기보다 효과 큰 ‘이 운동’ 추천 - 헬스조선, link: https://m.health.chosun.com/svc/news_view.html?contid=2025101002744;\\nsnippet: July 9, 2025 - 입력 2025/07/10 05:03 · “무조건 살 빠진다” 10kg 감량 소유, ‘이 음식’ 먹으면서 뺐다던데, title: Chosun 좋아하는 ‘운동 종류’ 뭔지 알면, 성격 파악 가능… 어떻게? - 헬스조선, link: https://m.health.chosun.com/svc/news_view.html?contid=2025070903068;\\nsnippet: August 27, 2025 - 이해나 기자 | 장가린 인턴기자 · 입력 2025/08/27 11:24, title: Chosun “‘이렇게’ 운동하면 칼로리 더 잘 타”… 소유 직접 밝힌 ‘유산소’ 노하우, 뭘까? - 헬스조선, link: https://m.health.chosun.com/svc/news_view.html?contid=2025082701412;\\nsnippet: 2 weeks ago - 입력 2025/10/07 00:30 · “버티기만 해도 운동 효과”… 혈액 잘 돌고 통증 준다던데, 방법은, title: Chosun “돈 안 드는데, 효과는 기대 이상” 살 빠지고, 심근경색 예방… 무슨 운동일까? - 헬스조선, link: https://m.health.chosun.com/svc/news_view.html?contid=2025092903192'"
      ]
     },
     "execution_count": 25,
     "metadata": {},
     "output_type": "execute_result"
    }
   ],
   "source": [
    "# 검색 기능을 위한 DuckDuckGoSearchResults 초기화\n",
    "search = DuckDuckGoSearchResults(\n",
    "    api_wrapper=wrapper,      # 앞에서 정의한 API wrapper를 사용\n",
    "    source=\"news\",            # 뉴스 소스에서만 검색하도록 지정\n",
    "    results_separator=';\\n'   # 결과 항목 사이에 구분자 사용 (세미콜론과 줄바꿈)\n",
    ")# DuckDuckGo를 이용해 ytn.co.kr 사이트에서 로제의 신곡 APT에 대한 내용을 검색\n",
    "docs = search.invoke(\"site:health.chosun.com 운동방법에 관한\")\n",
    "docs\n"
   ]
  },
  {
   "cell_type": "markdown",
   "metadata": {},
   "source": [
    "## 웹페이지 내용 가져오기"
   ]
  },
  {
   "cell_type": "code",
   "execution_count": 26,
   "metadata": {},
   "outputs": [
    {
     "name": "stdout",
     "output_type": "stream",
     "text": [
      "snippet: 1 week ago - 입력 2025/10/12 19:02 · “연말까지 5kg 빼야지”… 단기 다이어트 노리는 사람, ‘이 전략’ 어떨까, title: Chosun 살 빨리 빼고 싶을 때… 달리기보다 효과 큰 ‘이 운동’ 추천 - 헬스조선, link: https://m.health.chosun.com/svc/news_view.html?contid=2025101002744\n",
      "snippet: July 9, 2025 - 입력 2025/07/10 05:03 · “무조건 살 빠진다” 10kg 감량 소유, ‘이 음식’ 먹으면서 뺐다던데, title: Chosun 좋아하는 ‘운동 종류’ 뭔지 알면, 성격 파악 가능… 어떻게? - 헬스조선, link: https://m.health.chosun.com/svc/news_view.html?contid=2025070903068\n",
      "snippet: August 27, 2025 - 이해나 기자 | 장가린 인턴기자 · 입력 2025/08/27 11:24, title: Chosun “‘이렇게’ 운동하면 칼로리 더 잘 타”… 소유 직접 밝힌 ‘유산소’ 노하우, 뭘까? - 헬스조선, link: https://m.health.chosun.com/svc/news_view.html?contid=2025082701412\n",
      "snippet: 2 weeks ago - 입력 2025/10/07 00:30 · “버티기만 해도 운동 효과”… 혈액 잘 돌고 통증 준다던데, 방법은, title: Chosun “돈 안 드는데, 효과는 기대 이상” 살 빠지고, 심근경색 예방… 무슨 운동일까? - 헬스조선, link: https://m.health.chosun.com/svc/news_view.html?contid=2025092903192\n",
      "['https://m.health.chosun.com/svc/news_view.html?contid=2025101002744', 'https://m.health.chosun.com/svc/news_view.html?contid=2025070903068', 'https://m.health.chosun.com/svc/news_view.html?contid=2025082701412', 'https://m.health.chosun.com/svc/news_view.html?contid=2025092903192']\n"
     ]
    }
   ],
   "source": [
    "# 검색 결과의 링크들을 저장할 빈 리스트 초기화\n",
    "links = []\n",
    "\n",
    "# 검색 결과를 세미콜론과 줄바꿈 기준으로 분리하고, 각 결과 항목에서 링크를 추출\n",
    "for doc in docs.split(\";\\n\"):\n",
    "    print(doc)  # 각 검색 결과 항목을 출력하여 확인\n",
    "    link = doc.split(\"link:\")[1].strip()  # 각 항목에서 'link:' 이후의 URL 부분만 추출\n",
    "    links.append(link)  # 추출한 링크를 리스트에 추가\n",
    "\n",
    "# 모든 링크를 출력\n",
    "print(links)"
   ]
  },
  {
   "cell_type": "code",
   "execution_count": 27,
   "metadata": {},
   "outputs": [
    {
     "name": "stderr",
     "output_type": "stream",
     "text": [
      "USER_AGENT environment variable not set, consider setting it to identify your requests.\n",
      "Fetching pages: 100%|##########| 4/4 [00:00<00:00, 62.15it/s]"
     ]
    },
    {
     "name": "stdout",
     "output_type": "stream",
     "text": [
      "page_content='살 빨리 빼고 싶을 때… 달리기보다 효과 큰 ‘이 운동’ 추천 - 헬스조선가글자크기가가가가가×다이어트살 빨리 빼고 싶을 때… 달리기보다 효과 큰 ‘이 운동’ 추천한희준 기자입력 2025/10/12 19:02클립아트코리아다이어트를 위해 달리기를 결심한 사람이라면 주목하자. 운동을 안 하던 사람이 갑자기 달리기를 시작하면 무릎에 부담이 간다. 이럴 땐 자전거 타기를 대신 하면 좋다. 자전거 타기는 단점이 거의 없는 운동으로, 페달을 밟는 동안 하체 근육이 반복적으로 수축·이완되며 근육이 커지면서 무릎에 가는 부담은 적다.자전거를 타면 달리기나 수영을 할 때보다 열량이 많이 소모된다. 삼성서울병원 스포츠의학센터가 체중 70kg 성인의 시간당 소모열량을 운동 종류별로 비교한 결과, 자전거를 탈 때 가장 많은 열량이 소모되는 게 확인됐다. 실내자전거를 시속 25km로 한 시간 탈 때 780kcal가 소모된 반면, ▲달리기는 700kcal(시속 9km) ▲수영(자유형)은 360~500kcal ▲테니스는 360~480kcal ▲빨리 걷기는 360~420kcal가 소모됐다. 같은 시간을 할 때 이동거리가 가장 긴 운동 종목도 자전거 타기였다.자전거는 당뇨병이나 비만 등 만성질환 예방에 최적화된 운동이다. 안장 높이를 적절히 조절하면 관절에도 큰 부담을 주지 않는다. 자전거 바로 옆에 섰을 때, 안장이 골반보다 살짝 높은 곳에 있는 게 적당하다. 안장에 앉아 페달을 얹은 발을 지면 쪽으로 최대한 내렸을 때, 무릎이 구부러진 각도가 20~30도인지 확인한다. 안장이 너무 높으면 무릎 뒤쪽, 너무 낮으면 무릎 앞쪽에 통증이 잘 생긴다. 자전거를 타다가 무릎 뒤쪽이 아프면 안장을 약간 낮추고, 무릎 앞쪽이 아프면 안장을 조금 높인다.다만 자전거를 탈 때도 주의할 점은 있다. 타기 전 반드시 10~15분간은 하반신 스트레칭을 하는 게 좋다. 대구대 체육학과 최문영 교수는 \"특히 자전거 타기로 인한 부상은 대부분 허벅지 앞쪽과 바깥쪽에 발생한다\"며 \"발목이나 허벅지 뒤쪽 햄스트링보다는 허벅지 앞쪽과 바깥쪽을 공들여 스트레칭하는 게 좋다\"고 말했다. 부상 방지를 위해 헬멧을 착용하는 것도 잊지 말아야 한다.관련기사·“연말까지 5kg 빼야지”… 단기 다이어트 노리는 사람, ‘이 전략’ 어떨까?·운동·식단 말고…살 빨리 빼는 ‘간단 습관’ 3가지, 뭘까?헬스조선을 만나는 또다른 방법회사소개개인정보처리방침청소년보호정책컨텐츠구매뉴스제보PC버전맨위로 ↑최신뉴스(RSS)전체 서비스 보기© HEALTHCHOSUN.COM All rights reserved' metadata={'source': 'https://m.health.chosun.com/svc/news_view.html?contid=2025101002744', 'title': '살 빨리 빼고 싶을 때… 달리기보다 효과 큰 ‘이 운동’ 추천 - 헬스조선', 'description': '...', 'language': 'ko'}\n",
      "--------------\n",
      "page_content='좋아하는 ‘운동 종류’ 뭔지 알면, 성격 파악 가능… 어떻게? - 헬스조선가글자크기가가가가가×피트니스좋아하는 ‘운동 종류’ 뭔지 알면, 성격 파악 가능… 어떻게?김예경 기자입력 2025/07/10 05:03성격에 따라 선호하는 운동이 다르다는 연구 결과가 공개됐다. ​/사진=클립아트코리아성격에 따라 선호하는 운동이 다르다는 연구 결과가 공개됐다.영국 유니버시티 칼리지 런던 연구팀은 선호하는 운동과 성격의 상관관계를 밝히기 위해 다양한 체력 수준과 배경을 가진 132명의 참가자를 모집했다. 연구팀은 참가자들에게 8주 동안 혼자서 혹은 함께 자전거 타기, 근력 운동하기, 인터벌 트레이닝(고강도 운동과 저강도 운동을 반복해 훈련 방식), 유산소 운동하기 등을 하라고 지시했다. 연구팀은 8주가 지난 후 참가자들의 체력, 스트레스 정도, 운동 선호도에 관해 물었다. 또한 ‘빅 파이브(Big Five) 성격 유형’을 통해 참가자들의 성격을 분석했다. 빅 파이브란 심리학에서 사람의 성격을 설명할 때 가장 널리 쓰이는 다섯 가지 성격 유형 이론이다. 개방성(창의이고 호기심이 많은 성격), 성실성(계획적이고 자기 통제를 잘하는 성격), 외향성(사교적이고 활동적인 성격), 친화성(친절하고 협력적인 성격), 신경증(불안하고 걱정이 많은 성격)의 성격으로 나뉜다.그 결과, ‘외향성’ 사람들은 인터벌 트레이닝이나 격렬하게 자전거 타기 등의 고강도 운동을 즐기는 것으로 나타났다. ‘성실성’ 사람들은 빠르게 걷기와 같은 유산소 운동과 코어 운동을 좋아했다. 이들은 즐거움보다는 건강 증진을 위해 운동을 하는 것으로 나타났다. ‘신경증’인 사람은 혼자서 짧은 시간 할 수 있는 운동을 선호했다. 이들은 운동할 때 사생활이 지켜지는 공간을 선호하며, 운동 후 스트레스 수치가 가장 많이 감소했다. 의외로 ‘개방성’ 사람들은 격렬한 운동을 좋아하지 않았다. 마지막으로 ‘친화성’인 사람은 어느 운동이든 중립적인 태도를 보였다.연구팀은 “개개인의 성격에 맞춘 운동 방법이, 지속 가능성과 건강 유지에 도움이 된다”며 “억지로 유행하는 운동을 따르는 것보다 스트레스를 줄이고, 꾸준히 할 수 있고, 실질적인 건강효과를 볼 수 있는 운동을 하는 것이 중요하다”고 했다.이 연구는 ‘심리학 프론티어(Frontiers in Psychology)’에 지난 8일 게재됐다.관련기사·“무조건 살 빠진다” 10kg 감량 소유, ‘이 음식’ 먹으면서 뺐다던데·“아버지, 사망 직전까지 내 몸무게 걱정”… 결국 38kg 감량 보디빌딩 2위 수상, 방법은?·중년 여성의 뱃살 빼기, ‘이것’ 덜 먹기부터·'F1 더 무비' 브래드 피트, 레이싱 위해 '이 근육' 단련 집중했다… 어느 부위?헬스조선을 만나는 또다른 방법회사소개개인정보처리방침청소년보호정책컨텐츠구매뉴스제보PC버전맨위로 ↑최신뉴스(RSS)전체 서비스 보기© HEALTHCHOSUN.COM All rights reserved' metadata={'source': 'https://m.health.chosun.com/svc/news_view.html?contid=2025070903068', 'title': '좋아하는 ‘운동 종류’ 뭔지 알면, 성격 파악 가능… 어떻게? - 헬스조선', 'description': '...', 'language': 'ko'}\n",
      "--------------\n",
      "page_content='“‘이렇게’ 운동하면 칼로리 더 잘 타”… 소유 직접 밝힌 ‘유산소’ 노하우, 뭘까? - 헬스조선가글자크기가가가가가×피트니스“‘이렇게’ 운동하면 칼로리 더 잘 타”… 소유 직접 밝힌 ‘유산소’ 노하우, 뭘까?이해나 기자  | 장가린 인턴기자입력 2025/08/27 11:24[스타의 건강]가수 소유가 자신만의 유산소 다이어트 비법을 공개했다./사진=유튜브 채널 ‘ootb STUDIO’가수 소유(33)가 칼로리를 더 효과적으로 태우는 자신만의 유산소 다이어트 비법을 공개했다.지난 26일 유튜브 채널 ‘ootb STUDIO’에 게스트로 출연한 소유는 자신의 다이어트 비법에 대해 “운동을 일주일에 기본 세 번 이상은 나간다”며 “매일 고강도로 운동하는 것보다 쉬어주는 것도 운동의 일부”라고 말했다. 이어 “유산소는 무조건 필요하다”며 자신만의 유산소 운동 방법을 소개했다.소유는 “(러닝머신에서) 2분은 걷고 2분은 뛴다”며 “이렇게 40분을 뛴 다음 (경사도) 5로 런지하듯 걷는다”고 했다. 이어 “그다음에 15로, 그다음에 다시 4로 해서 런지로 걷는다”며 “이렇게 하면 칼로리가 더 잘 탄다”고 말했다.◇인터벌 트레이닝, 체지방 빠르게 연소소유가 소개한 ‘2분 걷기·2분 뛰기’ 방식은 인터벌 트레이닝의 일종이다. 인터벌 트레이닝은 고강도와 저중강도 운동을 번갈아 수행해 심박수를 변화시키는 훈련법이다. 지방 연소와 심폐 지구력 향상에 탁월한 효과가 있다. 일정한 속도로 달리는 지속성 유산소와 달리, 인터벌 방식은 운동 중·후에도 칼로리 소모가 이어지는 ‘애프터번 효과’를 유도한다. 덕분에 짧은 시간 안에 높은 운동 효율을 낼 수 있어 바쁜 현대인에게도 적합하다.다만 강도가 높은 만큼 부상 위험도 있다. 운동 전에는 스트레칭으로 몸을 충분히 풀고, 줄넘기나 가벼운 러닝 등으로 몸을 예열하는 것이 좋다. 운동 중 심한 피로감, 가슴 답답함, 어지럼증이 나타나면 즉시 중단해야 한다. 에이치짐 안암점 정해성 트레이너는 “초보자는 주 2~3회 정도로 시작해 몸 상태에 맞춰 천천히 강도를 높이는 것이 안전하다”고 말했다.◇경사 런지, 하체 근육 자극 강화소유처럼 러닝머신에서 경사도를 올려 런지하듯 걷는 운동은 일반 걷기보다 훨씬 강도가 높은 하체 운동이다. 허벅지 앞뒤(대퇴사두근, 햄스트링), 엉덩이 근육(둔근), 종아리, 코어 근육까지 폭넓게 자극할 수 있다. 경사도 5~15% 수준에서 런지 형태로 걷는 동작은 체중이 한쪽 다리에 실리는 시간과 무게를 증가시켜 중량 없이도 상당한 저항 운동 효과를 만들어낸다. 특히 엉덩이 라인 관리나 하체 지방 감소에 도움이 된다. 인터벌 러닝과 병행하면 유산소와 근력 효과를 동시에 기대할 수 있다.그러나 잘못된 자세로 반복하거나 체력에 비해 높은 경사에서 시도하면 무릎·허리·발목 부상 위험이 크다. 정해성 트레이너는 “경사 런지는 효과가 큰 운동이지만, 무리하면 오히려 역효과가 날 수 있다”며 “러닝머신 속도를 낮추고, 손잡이를 잡아 균형을 유지하면서 짧은 시간부터 시작하는 것이 안전하다”고 말했다.관련기사·다이어트 정체기 왔다면… 식사 때 ‘이것’ 한 스푼만 먹어보자·‘위고비’·’마운자로’ 이을 新 비만약, 효과 어땠나 보니…헬스조선을 만나는 또다른 방법회사소개개인정보처리방침청소년보호정책컨텐츠구매뉴스제보PC버전맨위로 ↑최신뉴스(RSS)전체 서비스 보기© HEALTHCHOSUN.COM All rights reserved' metadata={'source': 'https://m.health.chosun.com/svc/news_view.html?contid=2025082701412', 'title': '“‘이렇게’ 운동하면 칼로리 더 잘 타”… 소유 직접 밝힌 ‘유산소’ 노하우, 뭘까? - 헬스조선', 'description': '...', 'language': 'ko'}\n",
      "--------------\n",
      "page_content='“돈 안 드는데, 효과는 기대 이상” 살 빠지고, 심근경색 예방… 무슨 운동일까? - 헬스조선가글자크기가가가가가×피트니스“돈 안 드는데, 효과는 기대 이상” 살 빠지고, 심근경색 예방… 무슨 운동일까?한희준 기자입력 2025/10/07 00:30클립아트코리아계단오르기는 수많은 전문가가 추천하는 운동법 중 하나다. 누구나 쉽게 할 수 있고, 한 번의 운동으로 여러 건강 효과를 누릴 수 있다. 미국 하버드대 의대 연구에 따르면, 10층 계단을 1주일에 두 번만 올라도 심근경색으로 인한 사망률이 20% 줄어든다.계단오르기는 전신(全身) 운동이다. 계단을 오를 때는 평지를 걸을 때보다 에너지 소모가 1.5배로 많이 된다. 그만큼 몸에 부담이 가서, 혈액 속 산소와 영양분을 온몸으로 많이, 빠르게 보내려고 심장이 세게, 빨리 뛴다. 그러면 자연스럽게 호흡수도 증가하는데, 이런 과정이 반복되면 심장과 폐의 기능이 강화된다.계단오르기를 하면 또, 하체 근육이 튼튼해진다. 대구대 체육학과 최문영 교수는 \"계단을 오를 때 특히 많이 쓰이는 근육은 허벅지 근육으로, 전체 근육의 30%를 차지할 정도로 크다\"며 \"허벅지 근육이 강해지면 무릎 관절에 가는 부담이 줄어 관절염 예방 효과를 볼 수 있다\"고 말했다. 근육량이 늘면서 기초대사량도 올라간다. 고강도 운동·과로 같은 극한 상황을 겪은 후 몸 상태가 정상으로 회복되는 속도가 빨라진다. 칼로리 소모율이 높아져 비만 예방에도 도움이 된다. 발을 계속 높은 곳으로 올리는 동작을 통해 지구력과 균형감각도 높일 수 있다.계단오르기는 땀이 약간 나면서, 말을 할 수 있을 정도로 숨이 찰 때까지만 하는 게 좋다. 허벅지나 종아리가 뻐근해지거나 숨이 차서 말을 못 할 정도가 되면 계단오르기를 멈추고, 제자리 걸음이나 평지 걷기를 5분 정도 한 뒤에 다시 시작한다. 총 운동 시간은 40분이 적당하다.다만 이미 관절염이 있거나, 심장병 환자이거나, 균형감각이 안 좋은 노인이 하면 지병이 악화되거나 낙상을 겪을 수 있다. 이때는 계단오르기 대신 평지를 걷는 게 바람직하다. 계단오르기 운동을 하기에 적합한 장소는 환기가 잘 되고, 조명이 밝으며, 난간이 튼튼한 곳이다.​관련기사·“버티기만 해도 운동 효과”… 혈액 잘 돌고 통증 준다던데, 방법은?·“일주일 만에 뱃살 사라져”… SNS서 퍼진 ‘이 음료’, 전문가에게 물어보니·“이제 슬슬 덜 먹을 때”… 추석에 찐 살, ‘이때’까지 안 빼면 영영 못 뺄 수도·이민정 “한 달 한 번은 ‘이만큼’ 공복 유지”… 그래야 노화 늦춘다는데, 진짜?헬스조선을 만나는 또다른 방법회사소개개인정보처리방침청소년보호정책컨텐츠구매뉴스제보PC버전맨위로 ↑최신뉴스(RSS)전체 서비스 보기© HEALTHCHOSUN.COM All rights reserved' metadata={'source': 'https://m.health.chosun.com/svc/news_view.html?contid=2025092903192', 'title': '“돈 안 드는데, 효과는 기대 이상” 살 빠지고, 심근경색 예방… 무슨 운동일까? - 헬스조선', 'description': '...', 'language': 'ko'}\n",
      "--------------\n"
     ]
    },
    {
     "name": "stderr",
     "output_type": "stream",
     "text": [
      "\n"
     ]
    }
   ],
   "source": [
    "# Langchain의 WebBaseLoader를 사용하여 웹 페이지의 내용을 불러옵니다.\n",
    "from langchain_community.document_loaders import WebBaseLoader\n",
    "\n",
    "# WebBaseLoader 객체를 생성. 'links'는 웹 페이지의 URL 목록을 담고 있는 변수\n",
    "# bs_get_text_kwargs는 BeautifulSoup의 get_text() 메소드에 전달될 추가 인자\n",
    "loader = WebBaseLoader(\n",
    "    web_paths=links,  # 웹 페이지의 링크 목록을 지정\n",
    "    bs_get_text_kwargs={\n",
    "        \"strip\": True  # 웹 페이지에서 텍스트를 가져올 때 앞뒤의 공백을 제거\n",
    "    },\n",
    ")\n",
    "\n",
    "# 비동기로 웹 페이지의 내용을 로드하고, 각 문서를 page_contents 리스트에 추가\n",
    "page_contents = []  # 각 웹 페이지의 내용을 저장할 리스트입니다.\n",
    "async for doc in loader.alazy_load():\n",
    "    page_contents.append(doc)  # 불러온 문서를 page_contents 리스트에 추가\n",
    "\n",
    "# page_contents에 있는 각 웹 페이지의 내용을 출력\n",
    "for content in page_contents:\n",
    "    print(content)  # 웹 페이지의 내용을 출력\n",
    "    print('--------------')  # 페이지 구분을 위해 구분선을 출력"
   ]
  },
  {
   "cell_type": "code",
   "execution_count": 29,
   "metadata": {},
   "outputs": [],
   "source": [
    "import requests\n",
    "from bs4 import BeautifulSoup\n",
    "\n",
    "# 주어진 URL에서 기사 텍스트를 가져오는 함수\n",
    "def get_article_text(url):\n",
    "    try:\n",
    "        # URL에 GET 요청을 보냄\n",
    "        response = requests.get(url)\n",
    "        # 요청이 성공하지 못하면 예외를 발생시킴\n",
    "        response.raise_for_status()\n",
    "        \n",
    "        # BeautifulSoup을 사용하여 HTML 내용을 파싱\n",
    "        soup = BeautifulSoup(response.content, 'html.parser')\n",
    "        \n",
    "        # 클래스가 'story-news article'인 <article> 태그를 찾음\n",
    "        article = soup.find('article', class_='news_article')\n",
    "        \n",
    "        # 기사를 찾았다면 그 텍스트를 반환\n",
    "        if article:\n",
    "            return article.get_text(strip=True)\n",
    "        else:\n",
    "            try:\n",
    "                if soup.find('article'):\n",
    "                    return soup.find('article').get_text(strip=True)\n",
    "                elif soup.find('div', id=\"CmAdContent\"):\n",
    "                    return soup.find('div', id=\"CmAdContent\").get_text(strip=True)\n",
    "            except:\n",
    "                return \"기사 내용을 찾을 수 없습니다.\"\n",
    "            \n",
    "    # 요청이 실패할 경우 예외 처리\n",
    "    except requests.exceptions.RequestException as e:\n",
    "        return f\"URL을 가져오는 중 오류 발생: {e}\""
   ]
  },
  {
   "cell_type": "code",
   "execution_count": 30,
   "metadata": {},
   "outputs": [
    {
     "name": "stdout",
     "output_type": "stream",
     "text": [
      "URL: https://m.health.chosun.com/svc/news_view.html?contid=2025101002744\n",
      "\n",
      "Content:\n",
      "다이어트살 빨리 빼고 싶을 때… 달리기보다 효과 큰 ‘이 운동’ 추천한희준 기자입력 2025/10/12 19:02클립아트코리아다이어트를 위해 달리기를 결심한 사람이라면 주목하자. 운동을 안 하던 사람이 갑자기 달리기를 시작하면 무릎에 부담이 간다. 이럴 땐 자전거 타기를 대신 하면 좋다. 자전거 타기는 단점이 거의 없는 운동으로, 페달을 밟는 동안 하체 근육이 반복적으로 수축·이완되며 근육이 커지면서 무릎에 가는 부담은 적다.자전거를 타면 달리기나 수영을 할 때보다 열량이 많이 소모된다. 삼성서울병원 스포츠의학센터가 체중 70kg 성인의 시간당 소모열량을 운동 종류별로 비교한 결과, 자전거를 탈 때 가장 많은 열량이 소모되는 게 확인됐다. 실내자전거를 시속 25km로 한 시간 탈 때 780kcal가 소모된 반면, ▲달리기는 700kcal(시속 9km) ▲수영(자유형)은 360~500kcal ▲테니스는 360~480kcal ▲빨리 걷기는 360~420kcal가 소모됐다. 같은 시간을 할 때 이동거리가 가장 긴 운동 종목도 자전거 타기였다.자전거는 당뇨병이나 비만 등 만성질환 예방에 최적화된 운동이다. 안장 높이를 적절히 조절하면 관절에도 큰 부담을 주지 않는다. 자전거 바로 옆에 섰을 때, 안장이 골반보다 살짝 높은 곳에 있는 게 적당하다. 안장에 앉아 페달을 얹은 발을 지면 쪽으로 최대한 내렸을 때, 무릎이 구부러진 각도가 20~30도인지 확인한다. 안장이 너무 높으면 무릎 뒤쪽, 너무 낮으면 무릎 앞쪽에 통증이 잘 생긴다. 자전거를 타다가 무릎 뒤쪽이 아프면 안장을 약간 낮추고, 무릎 앞쪽이 아프면 안장을 조금 높인다.다만 자전거를 탈 때도 주의할 점은 있다. 타기 전 반드시 10~15분간은 하반신 스트레칭을 하는 게 좋다. 대구대 체육학과 최문영 교수는 \"특히 자전거 타기로 인한 부상은 대부분 허벅지 앞쪽과 바깥쪽에 발생한다\"며 \"발목이나 허벅지 뒤쪽 햄스트링보다는 허벅지 앞쪽과 바깥쪽을 공들여 스트레칭하는 게 좋다\"고 말했다. 부상 방지를 위해 헬멧을 착용하는 것도 잊지 말아야 한다.\n",
      "--------------------------------------------------\n",
      "URL: https://m.health.chosun.com/svc/news_view.html?contid=2025070903068\n",
      "\n",
      "Content:\n",
      "피트니스좋아하는 ‘운동 종류’ 뭔지 알면, 성격 파악 가능… 어떻게?김예경 기자입력 2025/07/10 05:03성격에 따라 선호하는 운동이 다르다는 연구 결과가 공개됐다. ​/사진=클립아트코리아성격에 따라 선호하는 운동이 다르다는 연구 결과가 공개됐다.영국 유니버시티 칼리지 런던 연구팀은 선호하는 운동과 성격의 상관관계를 밝히기 위해 다양한 체력 수준과 배경을 가진 132명의 참가자를 모집했다. 연구팀은 참가자들에게 8주 동안 혼자서 혹은 함께 자전거 타기, 근력 운동하기, 인터벌 트레이닝(고강도 운동과 저강도 운동을 반복해 훈련 방식), 유산소 운동하기 등을 하라고 지시했다. 연구팀은 8주가 지난 후 참가자들의 체력, 스트레스 정도, 운동 선호도에 관해 물었다. 또한 ‘빅 파이브(Big Five) 성격 유형’을 통해 참가자들의 성격을 분석했다. 빅 파이브란 심리학에서 사람의 성격을 설명할 때 가장 널리 쓰이는 다섯 가지 성격 유형 이론이다. 개방성(창의이고 호기심이 많은 성격), 성실성(계획적이고 자기 통제를 잘하는 성격), 외향성(사교적이고 활동적인 성격), 친화성(친절하고 협력적인 성격), 신경증(불안하고 걱정이 많은 성격)의 성격으로 나뉜다.그 결과, ‘외향성’ 사람들은 인터벌 트레이닝이나 격렬하게 자전거 타기 등의 고강도 운동을 즐기는 것으로 나타났다. ‘성실성’ 사람들은 빠르게 걷기와 같은 유산소 운동과 코어 운동을 좋아했다. 이들은 즐거움보다는 건강 증진을 위해 운동을 하는 것으로 나타났다. ‘신경증’인 사람은 혼자서 짧은 시간 할 수 있는 운동을 선호했다. 이들은 운동할 때 사생활이 지켜지는 공간을 선호하며, 운동 후 스트레스 수치가 가장 많이 감소했다. 의외로 ‘개방성’ 사람들은 격렬한 운동을 좋아하지 않았다. 마지막으로 ‘친화성’인 사람은 어느 운동이든 중립적인 태도를 보였다.연구팀은 “개개인의 성격에 맞춘 운동 방법이, 지속 가능성과 건강 유지에 도움이 된다”며 “억지로 유행하는 운동을 따르는 것보다 스트레스를 줄이고, 꾸준히 할 수 있고, 실질적인 건강효과를 볼 수 있는 운동을 하는 것이 중요하다”고 했다.이 연구는 ‘심리학 프론티어(Frontiers in Psychology)’에 지난 8일 게재됐다.\n",
      "--------------------------------------------------\n",
      "URL: https://m.health.chosun.com/svc/news_view.html?contid=2025082701412\n",
      "\n",
      "Content:\n",
      "피트니스“‘이렇게’ 운동하면 칼로리 더 잘 타”… 소유 직접 밝힌 ‘유산소’ 노하우, 뭘까?이해나 기자  | 장가린 인턴기자입력 2025/08/27 11:24[스타의 건강]가수 소유가 자신만의 유산소 다이어트 비법을 공개했다./사진=유튜브 채널 ‘ootb STUDIO’가수 소유(33)가 칼로리를 더 효과적으로 태우는 자신만의 유산소 다이어트 비법을 공개했다.지난 26일 유튜브 채널 ‘ootb STUDIO’에 게스트로 출연한 소유는 자신의 다이어트 비법에 대해 “운동을 일주일에 기본 세 번 이상은 나간다”며 “매일 고강도로 운동하는 것보다 쉬어주는 것도 운동의 일부”라고 말했다. 이어 “유산소는 무조건 필요하다”며 자신만의 유산소 운동 방법을 소개했다.소유는 “(러닝머신에서) 2분은 걷고 2분은 뛴다”며 “이렇게 40분을 뛴 다음 (경사도) 5로 런지하듯 걷는다”고 했다. 이어 “그다음에 15로, 그다음에 다시 4로 해서 런지로 걷는다”며 “이렇게 하면 칼로리가 더 잘 탄다”고 말했다.◇인터벌 트레이닝, 체지방 빠르게 연소소유가 소개한 ‘2분 걷기·2분 뛰기’ 방식은 인터벌 트레이닝의 일종이다. 인터벌 트레이닝은 고강도와 저중강도 운동을 번갈아 수행해 심박수를 변화시키는 훈련법이다. 지방 연소와 심폐 지구력 향상에 탁월한 효과가 있다. 일정한 속도로 달리는 지속성 유산소와 달리, 인터벌 방식은 운동 중·후에도 칼로리 소모가 이어지는 ‘애프터번 효과’를 유도한다. 덕분에 짧은 시간 안에 높은 운동 효율을 낼 수 있어 바쁜 현대인에게도 적합하다.다만 강도가 높은 만큼 부상 위험도 있다. 운동 전에는 스트레칭으로 몸을 충분히 풀고, 줄넘기나 가벼운 러닝 등으로 몸을 예열하는 것이 좋다. 운동 중 심한 피로감, 가슴 답답함, 어지럼증이 나타나면 즉시 중단해야 한다. 에이치짐 안암점 정해성 트레이너는 “초보자는 주 2~3회 정도로 시작해 몸 상태에 맞춰 천천히 강도를 높이는 것이 안전하다”고 말했다.◇경사 런지, 하체 근육 자극 강화소유처럼 러닝머신에서 경사도를 올려 런지하듯 걷는 운동은 일반 걷기보다 훨씬 강도가 높은 하체 운동이다. 허벅지 앞뒤(대퇴사두근, 햄스트링), 엉덩이 근육(둔근), 종아리, 코어 근육까지 폭넓게 자극할 수 있다. 경사도 5~15% 수준에서 런지 형태로 걷는 동작은 체중이 한쪽 다리에 실리는 시간과 무게를 증가시켜 중량 없이도 상당한 저항 운동 효과를 만들어낸다. 특히 엉덩이 라인 관리나 하체 지방 감소에 도움이 된다. 인터벌 러닝과 병행하면 유산소와 근력 효과를 동시에 기대할 수 있다.그러나 잘못된 자세로 반복하거나 체력에 비해 높은 경사에서 시도하면 무릎·허리·발목 부상 위험이 크다. 정해성 트레이너는 “경사 런지는 효과가 큰 운동이지만, 무리하면 오히려 역효과가 날 수 있다”며 “러닝머신 속도를 낮추고, 손잡이를 잡아 균형을 유지하면서 짧은 시간부터 시작하는 것이 안전하다”고 말했다.\n",
      "--------------------------------------------------\n",
      "URL: https://m.health.chosun.com/svc/news_view.html?contid=2025092903192\n",
      "\n",
      "Content:\n",
      "피트니스“돈 안 드는데, 효과는 기대 이상” 살 빠지고, 심근경색 예방… 무슨 운동일까?한희준 기자입력 2025/10/07 00:30클립아트코리아계단오르기는 수많은 전문가가 추천하는 운동법 중 하나다. 누구나 쉽게 할 수 있고, 한 번의 운동으로 여러 건강 효과를 누릴 수 있다. 미국 하버드대 의대 연구에 따르면, 10층 계단을 1주일에 두 번만 올라도 심근경색으로 인한 사망률이 20% 줄어든다.계단오르기는 전신(全身) 운동이다. 계단을 오를 때는 평지를 걸을 때보다 에너지 소모가 1.5배로 많이 된다. 그만큼 몸에 부담이 가서, 혈액 속 산소와 영양분을 온몸으로 많이, 빠르게 보내려고 심장이 세게, 빨리 뛴다. 그러면 자연스럽게 호흡수도 증가하는데, 이런 과정이 반복되면 심장과 폐의 기능이 강화된다.계단오르기를 하면 또, 하체 근육이 튼튼해진다. 대구대 체육학과 최문영 교수는 \"계단을 오를 때 특히 많이 쓰이는 근육은 허벅지 근육으로, 전체 근육의 30%를 차지할 정도로 크다\"며 \"허벅지 근육이 강해지면 무릎 관절에 가는 부담이 줄어 관절염 예방 효과를 볼 수 있다\"고 말했다. 근육량이 늘면서 기초대사량도 올라간다. 고강도 운동·과로 같은 극한 상황을 겪은 후 몸 상태가 정상으로 회복되는 속도가 빨라진다. 칼로리 소모율이 높아져 비만 예방에도 도움이 된다. 발을 계속 높은 곳으로 올리는 동작을 통해 지구력과 균형감각도 높일 수 있다.계단오르기는 땀이 약간 나면서, 말을 할 수 있을 정도로 숨이 찰 때까지만 하는 게 좋다. 허벅지나 종아리가 뻐근해지거나 숨이 차서 말을 못 할 정도가 되면 계단오르기를 멈추고, 제자리 걸음이나 평지 걷기를 5분 정도 한 뒤에 다시 시작한다. 총 운동 시간은 40분이 적당하다.다만 이미 관절염이 있거나, 심장병 환자이거나, 균형감각이 안 좋은 노인이 하면 지병이 악화되거나 낙상을 겪을 수 있다. 이때는 계단오르기 대신 평지를 걷는 게 바람직하다. 계단오르기 운동을 하기에 적합한 장소는 환기가 잘 되고, 조명이 밝으며, 난간이 튼튼한 곳이다.​\n",
      "--------------------------------------------------\n"
     ]
    }
   ],
   "source": [
    "# URL 목록의 각 링크를 반복하면서 기사 텍스트를 출력\n",
    "articles = []    # 가져온 내용을 리스트에 담기 위한 변수 선언\n",
    "for link in links:\n",
    "    print(f\"URL: {link}\\n\")\n",
    "    article_text = get_article_text(link)\n",
    "    print(f\"Content:\\n{article_text}\")\n",
    "    print(\"--------------------------------------------------\")\n",
    "    articles.append(article_text)"
   ]
  },
  {
   "cell_type": "code",
   "execution_count": 34,
   "metadata": {},
   "outputs": [
    {
     "name": "stdout",
     "output_type": "stream",
     "text": [
      "content='심근경색 예방에 도움이 되는 운동은 다음과 같습니다:\\n\\n1. **계단 오르기**\\n   - **이유**: 계단 오르기는 전신 운동으로 많은 에너지를 소모하며, 심박수를 상승시켜 심장과 폐의 기능을 강화하는 데 도움을 줍니다. 미국 하버드대 의대 연구에 따르면, 주 2회 10층 계단을 오르면 심근경색으로 인한 사망률이 20% 줄어든다고 합니다. 허벅지 근육을 강화하여 관절에 가는 부담을 줄이고, 기초대사량을 증가시켜 비만 예방에도 효과적입니다.\\n\\n2. **자전거 타기**\\n   - **이유**: 자전거 타기는 하체 근육을 강화하고, 무릎에 가는 부담이 적으며 열량 소모가 뛰어난 운동입니다. 실내자전거를 이용할 경우, 페달을 밟는 동안 심장은 점점 세게 뛰면서 전신에 혈액을 공급하게 되어 심장 건강에 긍정적인 영향을 미칩니다. 이 운동 또한 만성질환 예방에 최적화되어 있습니다.\\n\\n3. **유산소 운동 (걷기, 조깅)**\\n   - **이유**: 유산소 운동은 심박수를 증가시키고, 전반적인 심혈관 건강을 개선하는 데 효과적입니다. 걷기나 조깅은 비교적 낮은 강도의 운동으로 언제 어디서나 쉽게 할 수 있으며, 신체의 지구력을 향상시키고 혈액순환을 좋게 하는 등 심장 건강 유지에 도움이 됩니다. 일주일에 적절한 빈도로 꾸준히 하는 것이 중요합니다.\\n\\n이러한 운동들은 심장 근육을 강화하고 혈액 순환을 향상시켜, 심근경색을 예방하는 데 효과적일 뿐만 아니라 전반적인 건강에도 많은 긍정적인 영향을 미칩니다.' additional_kwargs={'refusal': None} response_metadata={'token_usage': {'completion_tokens': 429, 'prompt_tokens': 7025, 'total_tokens': 7454, 'completion_tokens_details': {'accepted_prediction_tokens': 0, 'audio_tokens': 0, 'reasoning_tokens': 0, 'rejected_prediction_tokens': 0}, 'prompt_tokens_details': {'audio_tokens': 0, 'cached_tokens': 0}}, 'model_provider': 'openai', 'model_name': 'gpt-4o-mini-2024-07-18', 'system_fingerprint': 'fp_560af6e559', 'id': 'chatcmpl-CTNmoBK6rXtC3VjBghEAbNeyUT1nD', 'service_tier': 'default', 'finish_reason': 'stop', 'logprobs': None} id='lc_run--10014eae-25d4-496d-b9a8-67df188b86c7-0' usage_metadata={'input_tokens': 7025, 'output_tokens': 429, 'total_tokens': 7454, 'input_token_details': {'audio': 0, 'cache_read': 0}, 'output_token_details': {'audio': 0, 'reasoning': 0}}\n"
     ]
    }
   ],
   "source": [
    "chat_history.add_message(\"\\n\".join(articles))\n",
    "chat_history.add_user_message(\"심근경색 예방에 어떤 운동이 좋을지 그이유와 함께 3가지 운동 알려주세요\") \n",
    "\n",
    "# 문서 검색하고 답변을 생성\n",
    "answer = document_chain.invoke(\n",
    "    {\n",
    "        \"messages\": chat_history.messages,\n",
    "        \"context\": docs,\n",
    "    }\n",
    ")\n",
    "\n",
    "# 생성된 답변 메모리에 저장\n",
    "chat_history.add_ai_message(answer) \n",
    "print(answer)\n"
   ]
  },
  {
   "cell_type": "code",
   "execution_count": 35,
   "metadata": {},
   "outputs": [
    {
     "data": {
      "text/plain": [
       "AIMessage(content='심근경색 예방을 위한 운동은 전반적인 심혈관 건강을 증진하고, 체중 조절, 혈압 및 콜레스테롤 수치를 낮추는 데 도움이 됩니다. 다음은 심근경색 예방에 좋은 세 가지 운동과 그 이유입니다.\\n\\n1. **유산소 운동 (걷기, 조깅, 자전거 타기)**:\\n   - **이유**: 유산소 운동은 심장 기능을 강화하고 혈액 순환을 개선하는 데 도움을 줍니다. 이러한 운동은 심박수를 증가시켜 심장과 폐의 효율성을 높이고, 지속적으로 시행할 경우 심혈관계 질환의 위험을 감소시킵니다. 또한 심리적 스트레스를 줄여주는 효과도 있습니다.\\n\\n2. **근력 운동 (웨이트 트레이닝)**:\\n   - **이유**: 근력 운동은 근육량을 증가시켜 기초 대사량을 높이고, 이를 통해 체지방을 감소시키는 데 도움을 줍니다. 근육이 많아지면 인슐린 감수성이 높아져 당뇨병 및 심혈관 질환의 위험을 낮출 수 있습니다. 또 다른 혜택으로는 뼈 밀도를 증가시키고, 전반적인 체력을 향상시킬 수 있는 점이 있습니다.\\n\\n3. **유연성 및 스트레칭 운동 (요가, 필라테스)**:\\n   - **이유**: 요가나 필라테스와 같은 유연성 운동은 스트레스를 줄이고, 마음을 진정시키는 효과가 있습니다. 스트레스는 심혈관 질환의 주요 위험 요소 중 하나이므로, 이러한 운동을 통해 정신적인 안정감을 찾는 것은 심근경색 예방에 중요합니다. 또한, 관절의 유연성을 증가시키고 부상의 위험을 줄이는 데도 도움이 됩니다.\\n\\n이러한 운동들은 심장 건강을 유지하기 위한 전반적인 접근 방식으로, 규칙적으로 시행하는 것이 중요합니다. 운동을 시작하기 전에 개인의 건강 상태를 고려하고, 필요시 전문가와 상담하는 것이 좋습니다.', additional_kwargs={'refusal': None}, response_metadata={'token_usage': {'completion_tokens': 460, 'prompt_tokens': 30, 'total_tokens': 490, 'completion_tokens_details': {'accepted_prediction_tokens': 0, 'audio_tokens': 0, 'reasoning_tokens': 0, 'rejected_prediction_tokens': 0}, 'prompt_tokens_details': {'audio_tokens': 0, 'cached_tokens': 0}}, 'model_provider': 'openai', 'model_name': 'gpt-4o-mini-2024-07-18', 'system_fingerprint': 'fp_560af6e559', 'id': 'chatcmpl-CTNmwZZxXK5vMANLhXPXGvqUClUvE', 'service_tier': 'default', 'finish_reason': 'stop', 'logprobs': None}, id='lc_run--299edcd3-c7c1-4b67-8680-4c167fa46124-0', usage_metadata={'input_tokens': 30, 'output_tokens': 460, 'total_tokens': 490, 'input_token_details': {'audio': 0, 'cache_read': 0}, 'output_token_details': {'audio': 0, 'reasoning': 0}})"
      ]
     },
     "execution_count": 35,
     "metadata": {},
     "output_type": "execute_result"
    }
   ],
   "source": [
    "# 단순한  chatbot 활용\n",
    "model.invoke(\"심근경색 예방에 어떤 운동이 좋을지 그이유와 함께 3가지 운동 알려주세요\")"
   ]
  }
 ],
 "metadata": {
  "kernelspec": {
   "display_name": "chatbot",
   "language": "python",
   "name": "python3"
  },
  "language_info": {
   "codemirror_mode": {
    "name": "ipython",
    "version": 3
   },
   "file_extension": ".py",
   "mimetype": "text/x-python",
   "name": "python",
   "nbconvert_exporter": "python",
   "pygments_lexer": "ipython3",
   "version": "3.12.12"
  }
 },
 "nbformat": 4,
 "nbformat_minor": 2
}
