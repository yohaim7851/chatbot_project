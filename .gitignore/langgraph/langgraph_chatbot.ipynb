{
 "cells": [
  {
   "cell_type": "code",
   "execution_count": 2,
   "id": "beb078e3",
   "metadata": {},
   "outputs": [
    {
     "data": {
      "text/plain": [
       "AIMessage(content='Hello! How can I assist you today?', additional_kwargs={'refusal': None}, response_metadata={'token_usage': {'completion_tokens': 9, 'prompt_tokens': 11, 'total_tokens': 20, 'completion_tokens_details': {'accepted_prediction_tokens': 0, 'audio_tokens': 0, 'reasoning_tokens': 0, 'rejected_prediction_tokens': 0}, 'prompt_tokens_details': {'audio_tokens': 0, 'cached_tokens': 0}}, 'model_provider': 'openai', 'model_name': 'gpt-4o-mini-2024-07-18', 'system_fingerprint': 'fp_560af6e559', 'id': 'chatcmpl-CTRDM8I1VjZgj64a8cMP0QlgTltOI', 'service_tier': 'default', 'finish_reason': 'stop', 'logprobs': None}, id='lc_run--c97e4dcf-7342-4fbb-ba68-0c8b5680635e-0', usage_metadata={'input_tokens': 11, 'output_tokens': 9, 'total_tokens': 20, 'input_token_details': {'audio': 0, 'cache_read': 0}, 'output_token_details': {'audio': 0, 'reasoning': 0}})"
      ]
     },
     "execution_count": 2,
     "metadata": {},
     "output_type": "execute_result"
    }
   ],
   "source": [
    "from langchain_openai import ChatOpenAI\n",
    "\n",
    "model = ChatOpenAI(model=\"gpt-4o-mini\")\n",
    "model.invoke(\"Hello, world!\")"
   ]
  },
  {
   "cell_type": "code",
   "execution_count": 14,
   "id": "3f125259",
   "metadata": {},
   "outputs": [],
   "source": [
    "from typing import Annotated\n",
    "from typing_extensions import TypedDict\n",
    "\n",
    "from langgraph.graph import StateGraph, START, END\n",
    "from langgraph.graph.message import add_messages\n",
    "\n",
    "class State(TypedDict):\n",
    "    \"\"\"\n",
    "    State 클래스는 TypedDict를 상속받아 상태의 구조를 정의합니다.\n",
    "    \n",
    "    속성:\n",
    "        messages (Annotated[list[str], add_messages]): 메세지들은 'list' 타입을 가집니다.\n",
    "        'add_messages' 함순는 이 상태 키가 어떻게 업데이트되어야 하는지를 정의합니다.\n",
    "        (이경우, 메세지를 덮어쓰는 대신 리스트에 추가합니다.)\n",
    "    \"\"\"\n",
    "    messages: Annotated[list[str], add_messages]\n",
    "\n",
    "graph_builder = StateGraph(State)"
   ]
  },
  {
   "cell_type": "code",
   "execution_count": 15,
   "id": "6418fcb0",
   "metadata": {},
   "outputs": [],
   "source": [
    "def generate(state: State):\n",
    "    \"\"\"\n",
    "        주어진 상태를 기반으로 챗봇의 응답 메세지를 생성합니다.\n",
    "\n",
    "        매개변수:\n",
    "        state (State) : 현재 대화 상태를 나타내는 객체로, 이전 메세지들이 포함되어 있습니다.\n",
    "\n",
    "        반환값:\n",
    "        dict : 모델이 생성한 응답 메세지를 포함하는 딕셔너리.\n",
    "                형식은 {\"messages:\" [model.invoke(state[\"messages\")]})]}\n",
    "    \"\"\"\n",
    "    return {\"messages\": [model.invoke(state[\"messages\"])]} \n",
    "\n",
    "graph_builder.add_node(\"generate\", generate)\n",
    "\n",
    "graph_builder.add_edge(START, \"generate\")\n",
    "graph_builder.add_edge(\"generate\", END)\n",
    "\n",
    "graph = graph_builder.compile()"
   ]
  },
  {
   "cell_type": "code",
   "execution_count": 11,
   "id": "5519a529",
   "metadata": {},
   "outputs": [
    {
     "data": {
      "image/png": "[encoded data removed]",
      "text/plain": [
       "<IPython.core.display.Image object>"
      ]
     },
     "metadata": {},
     "output_type": "display_data"
    }
   ],
   "source": [
    "from IPython.display import display, Image\n",
    "\n",
    "try:\n",
    "    display(Image(graph.get_graph().draw_mermaid_png()))\n",
    "\n",
    "except Exception:\n",
    "\n",
    "    pass"
   ]
  },
  {
   "cell_type": "code",
   "execution_count": 12,
   "id": "b8b91eeb",
   "metadata": {},
   "outputs": [
    {
     "name": "stdout",
     "output_type": "stream",
     "text": [
      "<class 'dict'>\n"
     ]
    },
    {
     "data": {
      "text/plain": [
       "{'messages': [HumanMessage(content='안녕하세요! 오늘 날씨가 좋네요!', additional_kwargs={}, response_metadata={}, id='48fe4cfd-f3b0-4fbf-9c6a-ad0cf9727459'),\n",
       "  AIMessage(content='안녕하세요! 날씨가 좋다니 기쁘네요! 오늘 어떤 계획이 있으신가요?', additional_kwargs={'refusal': None}, response_metadata={'token_usage': {'completion_tokens': 22, 'prompt_tokens': 17, 'total_tokens': 39, 'completion_tokens_details': {'accepted_prediction_tokens': 0, 'audio_tokens': 0, 'reasoning_tokens': 0, 'rejected_prediction_tokens': 0}, 'prompt_tokens_details': {'audio_tokens': 0, 'cached_tokens': 0}}, 'model_provider': 'openai', 'model_name': 'gpt-4o-mini-2024-07-18', 'system_fingerprint': 'fp_560af6e559', 'id': 'chatcmpl-CTRfS2CQEU2zcng4S7SNNr7nrzeHe', 'service_tier': 'default', 'finish_reason': 'stop', 'logprobs': None}, id='lc_run--6c41c1c2-7503-4979-bac8-a560e866f5c5-0', usage_metadata={'input_tokens': 17, 'output_tokens': 22, 'total_tokens': 39, 'input_token_details': {'audio': 0, 'cache_read': 0}, 'output_token_details': {'audio': 0, 'reasoning': 0}})]}"
      ]
     },
     "execution_count": 12,
     "metadata": {},
     "output_type": "execute_result"
    }
   ],
   "source": [
    "response = graph.invoke({\"messages\":[\"안녕하세요! 오늘 날씨가 좋네요!\"]})\n",
    "\n",
    "print(type(response))\n",
    "\n",
    "response"
   ]
  },
  {
   "cell_type": "code",
   "execution_count": 13,
   "id": "6376565b",
   "metadata": {},
   "outputs": [
    {
     "data": {
      "text/plain": [
       "{'messages': [HumanMessage(content='안녕하세요! 오늘 날씨가 좋네요!', additional_kwargs={}, response_metadata={}, id='48fe4cfd-f3b0-4fbf-9c6a-ad0cf9727459'),\n",
       "  AIMessage(content='안녕하세요! 날씨가 좋다니 기쁘네요! 오늘 어떤 계획이 있으신가요?', additional_kwargs={'refusal': None}, response_metadata={'token_usage': {'completion_tokens': 22, 'prompt_tokens': 17, 'total_tokens': 39, 'completion_tokens_details': {'accepted_prediction_tokens': 0, 'audio_tokens': 0, 'reasoning_tokens': 0, 'rejected_prediction_tokens': 0}, 'prompt_tokens_details': {'audio_tokens': 0, 'cached_tokens': 0}}, 'model_provider': 'openai', 'model_name': 'gpt-4o-mini-2024-07-18', 'system_fingerprint': 'fp_560af6e559', 'id': 'chatcmpl-CTRfS2CQEU2zcng4S7SNNr7nrzeHe', 'service_tier': 'default', 'finish_reason': 'stop', 'logprobs': None}, id='lc_run--6c41c1c2-7503-4979-bac8-a560e866f5c5-0', usage_metadata={'input_tokens': 17, 'output_tokens': 22, 'total_tokens': 39, 'input_token_details': {'audio': 0, 'cache_read': 0}, 'output_token_details': {'audio': 0, 'reasoning': 0}}),\n",
       "  HumanMessage(content='오늘날씨가 어떨까요?', additional_kwargs={}, response_metadata={}, id='958a4ee9-a77d-420d-b1b5-2dfb4d703f4e'),\n",
       "  AIMessage(content='죄송하지만, 현재 날씨 정보를 실시간으로 제공할 수는 없습니다. 하지만 지역의 날씨 정보를 확인하시려면 기상청 웹사이트나 날씨 앱을 이용하시면 좋습니다. 혹시 다른 질문이나 도움이 필요하시면 말씀해 주세요!', additional_kwargs={'refusal': None}, response_metadata={'token_usage': {'completion_tokens': 56, 'prompt_tokens': 55, 'total_tokens': 111, 'completion_tokens_details': {'accepted_prediction_tokens': 0, 'audio_tokens': 0, 'reasoning_tokens': 0, 'rejected_prediction_tokens': 0}, 'prompt_tokens_details': {'audio_tokens': 0, 'cached_tokens': 0}}, 'model_provider': 'openai', 'model_name': 'gpt-4o-mini-2024-07-18', 'system_fingerprint': 'fp_560af6e559', 'id': 'chatcmpl-CTRhmFtsxju8fsw8ANiNPdcNgtGZj', 'service_tier': 'default', 'finish_reason': 'stop', 'logprobs': None}, id='lc_run--208c61f2-6ad4-4c4d-980e-deda83f0cb27-0', usage_metadata={'input_tokens': 55, 'output_tokens': 56, 'total_tokens': 111, 'input_token_details': {'audio': 0, 'cache_read': 0}, 'output_token_details': {'audio': 0, 'reasoning': 0}})]}"
      ]
     },
     "execution_count": 13,
     "metadata": {},
     "output_type": "execute_result"
    }
   ],
   "source": [
    "response['messages'].append(\"오늘날씨가 어떨까요?\")\n",
    "\n",
    "graph.invoke(response)"
   ]
  },
  {
   "cell_type": "code",
   "execution_count": 25,
   "id": "de5f3318",
   "metadata": {},
   "outputs": [
    {
     "name": "stdout",
     "output_type": "stream",
     "text": [
      "==================================\u001b[1m Ai Message \u001b[0m==================================\n",
      "\n",
      "안녕하세요! 어떻게 도와드릴까요?\n",
      "\n",
      "현재 메시지 개수:1\n",
      "-----------------------\n",
      "\n",
      "==================================\u001b[1m Ai Message \u001b[0m==================================\n",
      "\n",
      "오늘 날씨가 추운가 보네요. 따뜻하게 입고 다니세요! 혹시 날씨 정보나 준비물에 대해 더 알고 싶으신가요?\n",
      "\n",
      "현재 메시지 개수:1\n",
      "-----------------------\n",
      "\n",
      "==================================\u001b[1m Ai Message \u001b[0m==================================\n",
      "\n",
      "죄송하지만, 실시간 날씨 정보를 제공할 수는 없습니다. 현재 위치에 따라 정확한 날씨를 확인하려면 기상청 웹사이트나 날씨 앱을 이용해 보시는 것이 좋습니다. 다른 질문이나 도움이 필요하시면 말씀해 주세요!\n",
      "\n",
      "현재 메시지 개수:1\n",
      "-----------------------\n",
      "\n",
      "==================================\u001b[1m Ai Message \u001b[0m==================================\n",
      "\n",
      "프로그램을 종료하고 싶으신 것인가요? 다른 질문이나 도움이 필요하시면 언제든지 말씀해 주세요!\n",
      "\n",
      "현재 메시지 개수:1\n",
      "-----------------------\n",
      "\n",
      "==================================\u001b[1m Ai Message \u001b[0m==================================\n",
      "\n",
      "\"exut\"라는 단어는 잘못 입력된 것 같습니다. \"exit\"로 하려고 하셨던 것인가요? 아니면 다른 의미를 원하셨나요? 더 궁금한 점이 있다면 말씀해 주세요!\n",
      "\n",
      "현재 메시지 개수:1\n",
      "-----------------------\n",
      "\n"
     ]
    }
   ],
   "source": [
    "from langchain_core.messages import HumanMessage\n",
    "from langgraph.checkpoint.memory import MemorySaver\n",
    "\n",
    "memory = MemorySaver()\n",
    "config = {\"configurable\" : {'thread_id':\"abcd\"}}\n",
    "\n",
    "graph = graph.builder.compile(checkpointer=memory)\n",
    "\n",
    "while True:\n",
    "    user_input = input(\"You: \")\n",
    "    if user_input.lower() in [\"exit\", \"quit\"]:\n",
    "        break\n",
    "    for event in graph.stream({\"messages\":[HumanMessage(user_input)]},config, stram_mode=\"values\"):\n",
    "        event['generate'][\"messages\"][-1].pretty_print()\n",
    "\n",
    "    print(f'\\n현재 메시지 개수:{len(event['generate']['messages'])}\\n-----------------------\\n')"
   ]
  },
  {
   "cell_type": "code",
   "execution_count": null,
   "id": "5519a73d",
   "metadata": {},
   "outputs": [],
   "source": []
  }
 ],
 "metadata": {
  "kernelspec": {
   "display_name": "chatbot",
   "language": "python",
   "name": "python3"
  },
  "language_info": {
   "codemirror_mode": {
    "name": "ipython",
    "version": 3
   },
   "file_extension": ".py",
   "mimetype": "text/x-python",
   "name": "python",
   "nbconvert_exporter": "python",
   "pygments_lexer": "ipython3",
   "version": "3.12.12"
  }
 },
 "nbformat": 4,
 "nbformat_minor": 5
}
