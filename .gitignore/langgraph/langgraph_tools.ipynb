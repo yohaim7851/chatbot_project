{
 "cells": [
  {
   "cell_type": "code",
   "execution_count": 1,
   "id": "b995fa05",
   "metadata": {},
   "outputs": [
    {
     "name": "stderr",
     "output_type": "stream",
     "text": [
      "c:\\Users\\tjdfu\\anaconda3\\envs\\chatbot\\Lib\\site-packages\\requests\\__init__.py:86: RequestsDependencyWarning: Unable to find acceptable character detection dependency (chardet or charset_normalizer).\n",
      "  warnings.warn(\n"
     ]
    },
    {
     "data": {
      "text/plain": [
       "AIMessage(content='Hello! How can I assist you today?', additional_kwargs={'refusal': None}, response_metadata={'token_usage': {'completion_tokens': 9, 'prompt_tokens': 11, 'total_tokens': 20, 'completion_tokens_details': {'accepted_prediction_tokens': 0, 'audio_tokens': 0, 'reasoning_tokens': 0, 'rejected_prediction_tokens': 0}, 'prompt_tokens_details': {'audio_tokens': 0, 'cached_tokens': 0}}, 'model_provider': 'openai', 'model_name': 'gpt-4o-mini-2024-07-18', 'system_fingerprint': 'fp_560af6e559', 'id': 'chatcmpl-CTTHRovh7fWgaXeLDpj484XZ2VuD9', 'service_tier': 'default', 'finish_reason': 'stop', 'logprobs': None}, id='lc_run--5a028f7b-9a7b-4a3a-9cb9-4bca640ebcb9-0', usage_metadata={'input_tokens': 11, 'output_tokens': 9, 'total_tokens': 20, 'input_token_details': {'audio': 0, 'cache_read': 0}, 'output_token_details': {'audio': 0, 'reasoning': 0}})"
      ]
     },
     "execution_count": 1,
     "metadata": {},
     "output_type": "execute_result"
    }
   ],
   "source": [
    "from langchain_openai import ChatOpenAI\n",
    "\n",
    "model = ChatOpenAI(model=\"gpt-4o-mini\")\n",
    "model.invoke(\"Hello, world!\")"
   ]
  },
  {
   "cell_type": "code",
   "execution_count": 2,
   "id": "eecbe8b3",
   "metadata": {},
   "outputs": [],
   "source": [
    "from typing import Annotated\n",
    "from typing_extensions import TypedDict\n",
    "\n",
    "from langgraph.graph import StateGraph, START, END\n",
    "from langgraph.graph.message import add_messages\n",
    "\n",
    "class State(TypedDict):\n",
    "    \"\"\"\n",
    "    State 클래스는 TypedDict를 상속받아 상태의 구조를 정의합니다.\n",
    "    \n",
    "    속성:\n",
    "        messages (Annotated[list[str], add_messages]): 메세지들은 'list' 타입을 가집니다.\n",
    "        'add_messages' 함순는 이 상태 키가 어떻게 업데이트되어야 하는지를 정의합니다.\n",
    "        (이경우, 메세지를 덮어쓰는 대신 리스트에 추가합니다.)\n",
    "    \"\"\"\n",
    "    messages: Annotated[list[str], add_messages]\n",
    "\n",
    "graph_builder = StateGraph(State)"
   ]
  },
  {
   "cell_type": "code",
   "execution_count": null,
   "id": "ec82f65e",
   "metadata": {},
   "outputs": [
    {
     "name": "stderr",
     "output_type": "stream",
     "text": [
      "USER_AGENT environment variable not set, consider setting it to identify your requests.\n"
     ]
    }
   ],
   "source": [
    "from langchain_core.tools import tool\n",
    "from datetime import datetime\n",
    "import pytz\n",
    "from langchain_community.tools import DuckDuckGoSearchResults\n",
    "from langchain_community.utilities import DuckDuckGoSearchAPIWrapper\n",
    "\n",
    "import bs4\n",
    "\n",
    "from langchain_community.document_loaders import WebBaseLoader\n",
    "\n",
    "@tool\n",
    "def get_current_time(timezone: str, location: str) -> str:\n",
    "    \"\"\"주어진 시간대와 위치에 대한 현재 시간을 반환합니다.\"\"\"\n",
    "    try:\n",
    "        tz = pytz.timezone(timezone)\n",
    "        current_time = datetime.now(tz).strftime(\"%Y-%m-%d %H:%M:%S\")\n",
    "        result = f\"The current time in {location} is {current_time}.\"\n",
    "        return result\n",
    "    except pytz.UnknownTimeZoneError:\n",
    "        return \"Unknown timezone. Please provide a valid timezone.\"\n",
    "    \n",
    "@tool\n",
    "def web_search(query: str, search_period: str = 'm') -> str:\n",
    "    \"\"\"DuckDuckGo를 사용하여 웹 검색을 수행하고 결과를 반환합니다.\n",
    "\n",
    "    Args:\n",
    "        query (str): 검색 쿼리 문자열.\n",
    "        search_period (str, optional): 검색 기간 필터. 기본값은 'm' (지난 한 달).\n",
    "            가능한 값:\n",
    "                'd' - 지난 하루\n",
    "                'w' - 지난 일주일\n",
    "                'm' - 지난 한 달\n",
    "                'y' - 지난 1년\n",
    "        Returns:\n",
    "            str: 검색 결과 요약.     \n",
    "    \"\"\"\n",
    "    \n",
    "    wapper = DuckDuckGoSearchAPIWrapper(time=search_period)\n",
    "    print('\\n------ Web Search ------')\n",
    "    print(f'Query: {query}, Period: {search_period}')\n",
    "\n",
    "\n",
    "    search = DuckDuckGoSearchResults(api_wrapper=wapper, results_separator=';\\n')\n",
    "    searched = search.invoke(query)\n",
    "\n",
    "    for i, result in enumerate(searched.split(';\\n')):\n",
    "        print(f'Result {i+1}: {result}\\n')\n",
    "    return searched\n",
    "\n",
    "tools = [get_current_time, web_search]"
   ]
  },
  {
   "cell_type": "code",
   "execution_count": 4,
   "id": "2206d822",
   "metadata": {},
   "outputs": [
    {
     "data": {
      "text/plain": [
       "'The current time in 서울 is 2025-10-22 22:35:02.'"
      ]
     },
     "execution_count": 4,
     "metadata": {},
     "output_type": "execute_result"
    }
   ],
   "source": [
    "tools[0].invoke({\"timezone\":\"Asia/Seoul\", \"location\":\"서울\"})"
   ]
  },
  {
   "cell_type": "code",
   "execution_count": 5,
   "id": "055f35df",
   "metadata": {},
   "outputs": [
    {
     "name": "stdout",
     "output_type": "stream",
     "text": [
      "\n",
      "------ Web Search ------\n",
      "Query: 스쿼트, Period: m\n",
      "Result 1: snippet: 2021. 10. 9. - Pinterest에서 Hannah Cha님의 보드 \" 스쿼트 \"을(를) 팔로우하세요. 스쿼트 , 운동법, 피트니스 운동에 관한 아이디어를 더 확인해 보세요., title: 20개의 스쿼트 아이디어 | 스쿼트 , 운동법, 피트니스 운동, link: https://tr.pinterest.com/hanahwj/스쿼트/\n",
      "\n",
      "Result 2: snippet: 스쿼트 . 낭만직딩. Плейлист • 6 видео • 158 просмотров., title: 스쿼트 - YouTube, link: https://www.youtube.com/playlist?list=PL_tFytP4EsO7g9xZzCvgmvPXZGnOvMBn7\n",
      "\n",
      "Result 3: snippet: 살 제일 빨리빠지는 덤벨 스쿼트 루틴 3가지 스쿼트는 체지방연소시키고 근육량 늘리는데 가장 효과적인 운동이에요! 체지방 연소에 효과적인 덤벨 스쿼트 루틴 3가지를 소개합니다., title: 타미미 스쿼트 | TikTok, link: https://www.tiktok.com/discover/타미미-스쿼트\n",
      "\n",
      "Result 4: snippet: 바벨 스쿼트 . V Squat. 브이 스쿼트 . Leg Extension. 레그 익스텐션., title: 덤벨 불가리안 스플릿 스쿼트 - 자세, 팁, 자극부위 등, link: https://planfit.ai/ko/exercise/dumbbell-bulgarian-split-squat\n",
      "\n"
     ]
    },
    {
     "data": {
      "text/plain": [
       "'snippet: 2021. 10. 9. - Pinterest에서 Hannah Cha님의 보드 \" 스쿼트 \"을(를) 팔로우하세요. 스쿼트 , 운동법, 피트니스 운동에 관한 아이디어를 더 확인해 보세요., title: 20개의 스쿼트 아이디어 | 스쿼트 , 운동법, 피트니스 운동, link: https://tr.pinterest.com/hanahwj/스쿼트/;\\nsnippet: 스쿼트 . 낭만직딩. Плейлист • 6 видео • 158 просмотров., title: 스쿼트 - YouTube, link: https://www.youtube.com/playlist?list=PL_tFytP4EsO7g9xZzCvgmvPXZGnOvMBn7;\\nsnippet: 살 제일 빨리빠지는 덤벨 스쿼트 루틴 3가지 스쿼트는 체지방연소시키고 근육량 늘리는데 가장 효과적인 운동이에요! 체지방 연소에 효과적인 덤벨 스쿼트 루틴 3가지를 소개합니다., title: 타미미 스쿼트 | TikTok, link: https://www.tiktok.com/discover/타미미-스쿼트;\\nsnippet: 바벨 스쿼트 . V Squat. 브이 스쿼트 . Leg Extension. 레그 익스텐션., title: 덤벨 불가리안 스플릿 스쿼트 - 자세, 팁, 자극부위 등, link: https://planfit.ai/ko/exercise/dumbbell-bulgarian-split-squat'"
      ]
     },
     "execution_count": 5,
     "metadata": {},
     "output_type": "execute_result"
    }
   ],
   "source": [
    "tools[1].invoke({\"query\":\"스쿼트\", \"search_period\":\"m\"})"
   ]
  },
  {
   "cell_type": "code",
   "execution_count": 6,
   "id": "fa1ece67",
   "metadata": {},
   "outputs": [
    {
     "data": {
      "text/plain": [
       "<langgraph.graph.state.StateGraph at 0x18fae4a3e90>"
      ]
     },
     "execution_count": 6,
     "metadata": {},
     "output_type": "execute_result"
    }
   ],
   "source": [
    "model_whit_tools = model.bind_tools(tools)\n",
    "\n",
    "def generate(state: State):\n",
    "    \"\"\"\n",
    "    주어진 상태를 기반으로 챗봇의 응답 메세지를 생성합니다.\n",
    "    Args:\n",
    "        state (State): 현재 상태를 나타내는 State 객체, 이전 메시지들이 포함되어 있습니다.\n",
    "    Returns:\n",
    "        dict: 모델이 생성한 응답 메세지를 포함하는 딕셔너리\n",
    "            형식은 {\"messages\":[응답 메세지]} 입니다.\n",
    "\n",
    "    \"\"\"\n",
    "    return {\"messages\": model_whit_tools.invoke(state[\"messages\"])}\n",
    "\n",
    "graph_builder.add_node(\"generate\", generate)"
   ]
  },
  {
   "cell_type": "code",
   "execution_count": 7,
   "id": "eb48d59f",
   "metadata": {},
   "outputs": [
    {
     "data": {
      "text/plain": [
       "<langgraph.graph.state.StateGraph at 0x18fae4a3e90>"
      ]
     },
     "execution_count": 7,
     "metadata": {},
     "output_type": "execute_result"
    }
   ],
   "source": [
    "import json\n",
    "from langchain_core.messages import ToolMessage\n",
    "\n",
    "class BasicToolNode:\n",
    "    \"\"\"\n",
    "    도구를 실행하는 노드 클래스입니다. 마지막 AIMessage에서 요청된 도구를 실행합니다.\n",
    "    Attrubutes:\n",
    "        tools_by_name (dict): 도구 이름을 키로, 도구의 객체를 값으로 가지는 사전입니다.\n",
    "    methods:\n",
    "        __init__(tools: list): 도구 객체들의 리스트를 받아 초기화합니다.\n",
    "        __call__(inputs: dict): 입력 메세지를 받아서 도구를 실행하고 결과 메시지를 반환합니다.\n",
    "    \"\"\"\n",
    "    \"\"\"A node that runs the tool requested in the last AIMessage.\"\"\"\n",
    "\n",
    "    def __init__(self, tools: list) -> None:\n",
    "        self.tools_by_name = {tool.name: tool for tool in tools}\n",
    "\n",
    "    def __call__(self, inputs: dict) -> dict:\n",
    "        if messages := inputs.get(\"messages\", []):\n",
    "            message = messages[-1]\n",
    "        else:\n",
    "            raise ValueError(\"No messages found in inputs\")\n",
    "        outputs = []\n",
    "        for tool_call in message.get_tool_calls():\n",
    "            tool_result = self.tools_by_name[tool_call.name].invoke(tool_call['args'])\n",
    "            outputs.append(ToolMessage(\n",
    "                contnet=json.dumps(tool_result), name=tool_call['name'], tool_call_id = tool_call[id], \n",
    "                )\n",
    "            )\n",
    "        return {\"messages\": messages + outputs}\n",
    "    \n",
    "tool_node = BasicToolNode(tools)\n",
    "graph_builder.add_node(\"tools\", tool_node)"
   ]
  },
  {
   "cell_type": "code",
   "execution_count": 8,
   "id": "41478ab5",
   "metadata": {},
   "outputs": [],
   "source": [
    "def route_tools(state: State):\n",
    "    \"\"\"\n",
    "    마지막 메세지에 도구 호출이 있는 경우 ToolNode로 라우팅하고,\n",
    "    그렇지 않은 겨우 끝으로 라우팅하기 위해 conditional_edge에서 사용합니다.\n",
    "    \"\"\"\n",
    "\n",
    "    if isinstance(state, list):\n",
    "        ai_message = state[-1]\n",
    "    elif messages := state.get(\"messages\", []):\n",
    "        ai_message = messages[-1]\n",
    "    else:\n",
    "        raise ValueError(f\"No messages found in {state}\")\n",
    "    if hasattr(ai_message, 'tool_calss') and len(ai_message.tool_calls) > 0:\n",
    "        return \"tools\"\n",
    "    return END\n",
    "\n",
    "graph_builder.add_edge(START, \"generate\")\n",
    "\n",
    "graph_builder.add_conditional_edges(\n",
    "    \"generate\", \n",
    "    route_tools,\n",
    "    {\"tools\": \"tools\", END: END}\n",
    ")\n",
    "graph_builder.add_edge(\"tools\", \"generate\")\n",
    "graph = graph_builder.compile()\n"
   ]
  },
  {
   "cell_type": "code",
   "execution_count": 9,
   "id": "f12e2058",
   "metadata": {},
   "outputs": [
    {
     "data": {
      "image/png": "[encoded data removed]",
      "text/plain": [
       "<IPython.core.display.Image object>"
      ]
     },
     "metadata": {},
     "output_type": "display_data"
    }
   ],
   "source": [
    "from IPython.display import display, Image\n",
    "\n",
    "try:\n",
    "    display(Image(graph.get_graph().draw_mermaid_png()))\n",
    "except Exception:\n",
    "    pass"
   ]
  },
  {
   "cell_type": "code",
   "execution_count": 16,
   "id": "c649df9b",
   "metadata": {},
   "outputs": [
    {
     "data": {
      "text/plain": [
       "AIMessageChunk(content='', additional_kwargs={}, response_metadata={'model_provider': 'openai', 'finish_reason': 'tool_calls', 'model_name': 'gpt-4o-mini-2024-07-18', 'system_fingerprint': 'fp_560af6e559', 'service_tier': 'default'}, id='lc_run--e0f3cce0-50ea-4cca-b31a-634a84ac1bb7', tool_calls=[{'name': 'get_current_time', 'args': {'timezone': 'Asia/Seoul', 'location': 'Seoul'}, 'id': 'call_kG4ohAe4udq1OhUNolKr9jmH', 'type': 'tool_call'}], usage_metadata={'input_tokens': 193, 'output_tokens': 23, 'total_tokens': 216, 'input_token_details': {'audio': 0, 'cache_read': 0}, 'output_token_details': {'audio': 0, 'reasoning': 0}}, tool_call_chunks=[{'name': 'get_current_time', 'args': '{\"timezone\":\"Asia/Seoul\",\"location\":\"Seoul\"}', 'id': 'call_kG4ohAe4udq1OhUNolKr9jmH', 'index': 0, 'type': 'tool_call_chunk'}], chunk_position='last')"
      ]
     },
     "execution_count": 16,
     "metadata": {},
     "output_type": "execute_result"
    }
   ],
   "source": [
    "from langchain_core.messages import AIMessageChunk, HumanMessage\n",
    "\n",
    "inputs = [HumanMessage(content=\"지금 서울의 시간은 몇시야?\")]\n",
    "\n",
    "gathered = None\n",
    "\n",
    "for msg, metadate in graph.stream({\"messages\": inputs}, stream_mode=\"messages\"):\n",
    "    if isinstance(msg, AIMessageChunk):\n",
    "        print(msg.content, end=\"\")\n",
    "    if gathered is None:\n",
    "        gathered = msg\n",
    "    else:\n",
    "        gathered = gathered + msg\n",
    "\n",
    "gathered\n",
    "\n"
   ]
  },
  {
   "cell_type": "code",
   "execution_count": null,
   "id": "20807a66",
   "metadata": {},
   "outputs": [],
   "source": []
  }
 ],
 "metadata": {
  "kernelspec": {
   "display_name": "chatbot",
   "language": "python",
   "name": "python3"
  },
  "language_info": {
   "codemirror_mode": {
    "name": "ipython",
    "version": 3
   },
   "file_extension": ".py",
   "mimetype": "text/x-python",
   "name": "python",
   "nbconvert_exporter": "python",
   "pygments_lexer": "ipython3",
   "version": "3.12.12"
  }
 },
 "nbformat": 4,
 "nbformat_minor": 5
}
