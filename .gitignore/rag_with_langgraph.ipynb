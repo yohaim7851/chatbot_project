{
 "cells": [
  {
   "cell_type": "code",
   "execution_count": 1,
   "id": "cf45c5e5",
   "metadata": {},
   "outputs": [
    {
     "name": "stdout",
     "output_type": "stream",
     "text": [
      "data\\운동 전문 데이터_식이 조절_1차본.pdf\n"
     ]
    }
   ],
   "source": [
    "from glob import glob\n",
    "\n",
    "for g in glob(\"data/*.pdf\"):\n",
    "    print(g)\n"
   ]
  },
  {
   "cell_type": "code",
   "execution_count": 2,
   "id": "0fea795d",
   "metadata": {},
   "outputs": [
    {
     "name": "stderr",
     "output_type": "stream",
     "text": [
      "c:\\Users\\tjdfu\\anaconda3\\envs\\chatbot\\Lib\\site-packages\\requests\\__init__.py:86: RequestsDependencyWarning: Unable to find acceptable character detection dependency (chardet or charset_normalizer).\n",
      "  warnings.warn(\n"
     ]
    }
   ],
   "source": [
    "from langchain_community.document_loaders import PyPDFLoader\n",
    "from langchain_text_splitters import RecursiveCharacterTextSplitter\n",
    "\n",
    "def read_pdf_and_split_text(pdf_path, chunk_size=1000, chunk_overlap=100):\n",
    "    \"\"\"주어진 PDF 파일을 읽고 텍스트를 분할합니다.\n",
    "        매개변수:\n",
    "            pdf_path (str): PDF 파일의 경로\n",
    "            chunk_size (int): 각 청크의 최대 크기. 기본값은 1000\n",
    "            chunk_overlap (int): 청크 간의 중복 크기. 기본값은 100\n",
    "        반환값:\n",
    "            list: 분할된 텍스트 청크의 리스트\n",
    "    \"\"\"\n",
    "    pdf_loader = PyPDFLoader(file_path=pdf_path)\n",
    "    data_from_pdf = pdf_loader.load()\n",
    "    \n",
    "    text_splitter = RecursiveCharacterTextSplitter(\n",
    "        chunk_size=chunk_size,\n",
    "        chunk_overlap=chunk_overlap\n",
    "    )\n",
    "    \n",
    "    split_docs = text_splitter.split_documents(data_from_pdf)\n",
    "    print(f'Nnmber of split:{len(split_docs)}\\n')\n",
    "    return split_docs"
   ]
  },
  {
   "cell_type": "code",
   "execution_count": 3,
   "id": "5cc38846",
   "metadata": {},
   "outputs": [],
   "source": [
    "from langchain_openai import OpenAIEmbeddings\n",
    "from langchain_chroma import Chroma\n",
    "import os\n",
    "\n",
    "embeddings = OpenAIEmbeddings(model=\"text-embedding-3-large\")\n",
    "\n",
    "persist_directory = \"chroma_store\"\n",
    "\n",
    "if os.path.exists(persist_directory):\n",
    "    vectorstore = Chroma(\n",
    "        persist_directory=persist_directory,\n",
    "        embedding_function=embeddings\n",
    "    )\n",
    "else:\n",
    "    print(\"Creating new vectorstore...\")\n",
    "\n",
    "    vectorstore = None\n",
    "\n",
    "    for g in glob(\"data/*.pdf\"):\n",
    "        chunks = read_pdf_and_split_text(g)\n",
    "        for i in range(0, len(chunks), 100):\n",
    "            if vectorstore is None:\n",
    "                vectorstore = Chroma.from_documents(\n",
    "                    documents=chunks[i:i+100],\n",
    "                    embedding=embeddings,\n",
    "                    persist_directory=persist_directory\n",
    "                )\n",
    "            else:\n",
    "                vectorstore.add_documents(\n",
    "                    documents=chunks[i:i+100]\n",
    "                )"
   ]
  },
  {
   "cell_type": "code",
   "execution_count": 4,
   "id": "426f6e3e",
   "metadata": {},
   "outputs": [],
   "source": [
    "retriever = vectorstore.as_retriever(search_kwargs={\"k\":5})\n",
    "\n",
    "# chunks = retriever.invoke(\"다이어트 방식에 대해서 알려줘\")\n",
    "\n",
    "# for c in chunks:\n",
    "#     print(c.metadata)\n",
    "#     print(c.page_content)"
   ]
  },
  {
   "cell_type": "markdown",
   "id": "6b396bce",
   "metadata": {},
   "source": [
    "### 라우터 설정하기"
   ]
  },
  {
   "cell_type": "code",
   "execution_count": 5,
   "id": "abbf87d2",
   "metadata": {},
   "outputs": [],
   "source": [
    "from langchain_core.prompts import ChatPromptTemplate\n",
    "from typing import Literal\n",
    "from pydantic import BaseModel, Field\n",
    "from langchain_openai import ChatOpenAI\n",
    "\n",
    "model = ChatOpenAI(model=\"gpt-4o-mini\")\n",
    "\n",
    "class RoutuQuery(BaseModel):\n",
    "    \"\"\"사용자 쿼리를 가장 관령성이 높은 데이터 소스로 라우팅합니다.\"\"\"\n",
    "    \n",
    "    datasource: Literal['vectorstore', 'casual_talk'] = Field(...,\n",
    "                                                              description=\"\"\"사용자 질문에 따라 casual_talk, 또는 vectorstore로 라우팅합니다.\n",
    "                                                                            - casual_talk: 일상 대화를 위한 데이터 소스. 사용자가 일상적인 질문을 할 떄 사용합니다. \n",
    "                                                                            - vectorstore: 사용자 질문에 답하기 위해 RAG로 vectorstore 검색이 필요한 경우 사용합니다.\"\"\")\n",
    "    \n",
    "structured_llm_router = model.with_structured_output(RoutuQuery)\n",
    "\n",
    "router_system = \"\"\"\n",
    "당신은 사용자의 질문을 vectorstore 또는 casual_talk으로 라우팅하는 전문가입니다.\n",
    "-vectorstore에는 다이어트 방법, 다이터트 식단, 다이어트 식단에 대한 정보가 포함되어 있습니다. 이 주제에 대한 질문에는 vectorstore를 사용하십시오.\n",
    "-사용자의 질문이 일상 대화에 관련된 경우 casual_talk을 사용하십시오.\"\"\"\n",
    "\n",
    "route_prompt = ChatPromptTemplate.from_messages([(\"system\", router_system), (\"human\", \"{question}\")])\n",
    "\n",
    "question_router = route_prompt | structured_llm_router"
   ]
  },
  {
   "cell_type": "code",
   "execution_count": 6,
   "id": "c6e7b6a4",
   "metadata": {},
   "outputs": [],
   "source": [
    "# print(\n",
    "#     question_router.invoke({\"question\": \"다이어트 식단에 대해서 알려주세요\"})\n",
    "# )\n",
    "\n",
    "# print(question_router.invoke({'question': \"안녕하세요\"}))"
   ]
  },
  {
   "cell_type": "code",
   "execution_count": 7,
   "id": "f8ef7850",
   "metadata": {},
   "outputs": [
    {
     "name": "stderr",
     "output_type": "stream",
     "text": [
      "C:\\Users\\tjdfu\\AppData\\Local\\Temp\\ipykernel_15012\\2519631436.py:9: PydanticDeprecatedSince20: Using extra keyword arguments on `Field` is deprecated and will be removed. Use `json_schema_extra` instead. (Extra keys: 'discription'). Deprecated in Pydantic V2.0 to be removed in V3.0. See Pydantic V2 Migration Guide at https://errors.pydantic.dev/2.12/migration/\n",
      "  binary_score:Literal['yes', 'no'] = Field(discription=\"문서가 질문과 관련이 있는지 여부를 'yes' or 'no'로 평가합니다.\")\n"
     ]
    }
   ],
   "source": [
    "from langchain_core.prompts import PromptTemplate\n",
    "from langchain_openai import ChatOpenAI\n",
    "\n",
    "model = ChatOpenAI(model=\"gpt-4o-mini\")\n",
    "\n",
    "class GradeDocuments(BaseModel):\n",
    "    \"\"\"검색된 문서가 질문과 관련성이 있는지 yes or no로 평가합니다.\"\"\"\n",
    "\n",
    "    binary_score:Literal['yes', 'no'] = Field(discription=\"문서가 질문과 관련이 있는지 여부를 'yes' or 'no'로 평가합니다.\")\n",
    "\n",
    "structured_llm_grader = model.with_structured_output(GradeDocuments)"
   ]
  },
  {
   "cell_type": "code",
   "execution_count": 8,
   "id": "394f12b4",
   "metadata": {},
   "outputs": [
    {
     "name": "stdout",
     "output_type": "stream",
     "text": [
      "page_content='프로틴 셰이크 홀로 섭취대부분의 단백질 보충제는 단백질 함량 비율이 높기 때문에 프로틴 셰이크만 섭취했을 때는 한 가지 단백질 영양소로 치우치게 됩니다. 이때 소량의 견과류 혹은 약간의 탄수화물이라도 함께 섭취해주면 포만감을 높여주고 영양소 구성에도 훌륭해집니다.4. 무조건 WPI 만 고집흡수가 빠르다고 알려져 있는 Whey Protein Isolate, WPI 성분 단백질의 필요 섭취 시기는 운동 직후와 기상 직후면 충분합니다. 흡수가 빨라 평소 활동 시간에 섭취 시 체내에 머물지 않고 빠르게 소화되기 때문에 평소 낮이나 저녁 시간 때는 오히려 복합 단백질이 더 효율적이라 할 수 있습니다. 경주용 트랙에서는 스포츠카가 필요하고 짐을 나를 때는 트럭이 필요하듯이 필요한 용도별로 나눠 사용해주는 게 좋습니다. 빠르다고 무조건 좋은 건 아닙니다.1-7. 다이어트 시 달걀 섭취(출처: 머슬앤피트니스 코리아, https://muscleandfitness.tistory.com/233 )다이어트시에는 주로 닭가슴살과 프로틴 셰이크로 단백질을 보충하지만 달걀 섭취 역시 좋은 단백질 공급원으로 선택할 수 있습니다. 특히 달걀흰자는 모든 칼로리가 단백질로부터 나올 정도의 순수 단백질 성분으로만 이루어져 있기 때문에 탄수화물과 지방을 함유하지 않습니다.' metadata={'page_label': '5', 'producer': 'Hancom PDF 1.3.0.538', 'total_pages': 29, 'page': 4, 'source': 'data\\\\운동 전문 데이터_식이 조절_1차본.pdf', 'moddate': '2025-10-21T00:07:26+09:00', 'pdfversion': '1.4', 'creator': 'Hwp 2018 11.0.0.2129', 'creationdate': '2025-10-21T00:07:26+09:00', 'author': '이용빈'}\n",
      "page_content='제는 웨이트 트레이닝을 하는 사람들에게는 가장 기본적인 필수 제품으로 알려져 있습니다. 사용하는 순간부터 눈에 띄는 효과를 보거나 느낄 순 없지만 근육의 합성과 성장을 위해서는 절대로 빠져서는 안 될 영양소인 단백질을 보충해주기 때문에 필수적으로 사용하는 게 도움이 된다고 봅니다. 하지만 단순한 너무 소량의 단백질만 섭취한다거나 너무 다량을 섭취할 경우 원하는 효과를 얻을 수 없기 때문에 단순히 단백질을 보충해주는 것 이상의 섭취 시기와 섭취량 등을 조금만 스마트하게 한다면 장기적으로 훨씬 나은 효과를 볼 수 있습니다.1. 식사 후 단백질 보충제 섭취일반적인 육류나 생선등 단백질 음식들이 포함된 식사를 한 경우라면 단백질 섭취를 추가로 할 필요가 없습니다. 간혹 심리적인 불안감으로 식사 후 프로틴 셰이크를 마시는 사람들이 있는데 본인이 유전적으로 단백 동화시키는 속도가 빠르고 엄청난 근육량을 가진 상태가 아니라면 식사 직후 프로틴 셰이크로 인한 추가적인 단백질은 지방 축적과 소화불량 등 불필요하게 변환될 수 있기 때문에 식사 직후보다는 식사 사이에 섭취하는 게 바람직합니다.식사에서 단백질이 현저하게 부족한 경우라면 프로틴 셰이크를 추가로 섭취하여 영양의 밸런스를 맞춰 주는 게좋습니다.2. 너무 많은 단백질 섭취프로틴 셰이크를 섭취할 때 2-3 서빙씩 섭취하는 사람들이 있습니다. 한 번에 너무 많은 단백질 섭취가 이뤄지게 되면 섭취한 양이 전부 소화되지 않고 불필요하게 1번 문제처럼 불필요하게 사용됩니다. 대부분의 단백질 보충 제등은 정제된 상태의 단백질 성분이기 때문에 자연 음식보다 흡수와 소화가 빠르지만 그렇다고 해서 한 번에 많은 양을 소화시킬 수는 없기 때문에 2 서빙을 섭취할 거라면 1 서빙 섭취 후 시간을 조금 두고 다시 1 서빙을 섭취하는 방법으로 해주는 게 도움이 됩니다.3. 프로틴 셰이크 홀로 섭취대부분의 단백질 보충제는 단백질 함량 비율이 높기 때문에 프로틴 셰이크만 섭취했을 때는 한 가지 단백질 영양소로 치우치게 됩니다. 이때 소량의 견과류' metadata={'creator': 'Hwp 2018 11.0.0.2129', 'total_pages': 29, 'pdfversion': '1.4', 'creationdate': '2025-10-21T00:07:26+09:00', 'moddate': '2025-10-21T00:07:26+09:00', 'author': '이용빈', 'producer': 'Hancom PDF 1.3.0.538', 'page_label': '5', 'page': 4, 'source': 'data\\\\운동 전문 데이터_식이 조절_1차본.pdf'}\n",
      "page_content='시즌 기나 비시즌기 등의 시기에 맞게 사용한다면 최대의 효과를 볼 수 있습니다. 예를 들어 한번에 5-10g 의 양을 하루에 두 번 섭취한다면 자기 전과 식사 사이보다는 운동 전/후로 한 번씩 섭취하는 게 더 효과적인 것처럼 말이죠. 현재 자신의 목표에 도움이 될 수 있는 효과적인 섭취 방법을 연구하여 찾아보시기 바랍니다.섭취 시기아침 기상후: 수면 동안 부족했던 영양소 공급으로 인한 카타볼릭 방지운동전/중: 근력과 에너지 증가운동후: 근육 회복식사 사이: 에너지 증가, 허기 조절늦은 저녁: 식욕 조절, 카타볼릭 방지1-6. 잘못된 단백질 섭취 습관(출처: 머슬앤피트니스 코리아, https://muscleandfitness.tistory.com/235 )자연식품에서 얻기 어려운 단백질 영양소를 손쉽게 보충할 수 있는 대체 제품인 단백질 보충' metadata={'creationdate': '2025-10-21T00:07:26+09:00', 'creator': 'Hwp 2018 11.0.0.2129', 'page': 3, 'moddate': '2025-10-21T00:07:26+09:00', 'source': 'data\\\\운동 전문 데이터_식이 조절_1차본.pdf', 'pdfversion': '1.4', 'page_label': '4', 'producer': 'Hancom PDF 1.3.0.538', 'total_pages': 29, 'author': '이용빈'}\n",
      "page_content='한 차이이기 때문에 차라리 20g씩 두 번에 걸쳐 섭취하는 게 40g 한 번의 섭취보다는 더 많은 단백질 합성을 일으킬 수 있습니다. 웨이 프로틴이나 일반적인 프로틴 파우더 섭취 시 류신을 추가로 섭취하게 되면 단백질 합성의 문을 열어주는 mTOR가 더 효율적으로 작동하여 근육 섬유의 합성을 촉진시킬 수 있습니다.결론: 많은 양의 단백질을 한 번에 섭취하는 것보다 20-30g 정도로 섭취량을 나누고 류신을 추가하게 되면 최대한의 근육 섬유 합성이 일어나게 됩니다.1-18. 식이섬유와 칼로리(출처: https://muscleandfitness.tistory.com/164 )탄소화물 성분 중에서 조금은 어렵고 복잡한 식이섬유의 칼로리에 대해 알아보겠습니다.식이섬유는 불용성과(insoluble) 수용성(soluble) 두 종류로 나뉘는데 얼마 전부터 일반인들에게 이해를 쉽게 돕기 위해 “Dietary Fiber” 와 “Functional Fiber” 이렇게 두 가지로 나누고 있습니다.Dietary Fiber: 야채 등에서 함유된 섬유질 같은 순수한 식이섬유Functional Fiber: 분리형으로 만들어진 상태로 인체에 식이섬유와 같은 작용을 하는 식이섬유식이섬유는 탄수화물로 분류되기 때문에 제품 라벨 표시에는 1g 당 4칼로리로 계산하지만 단당류나 다당류의 탄수화물과 달리 혈당을 높이지 않는 성질과 작용되는 메커니즘이 다르기 때문에 실질적으로 같은 칼로리로 계산하는 건 정확하지 않습니다. 이 때문에 식이섬유의 칼로리를 더하지 않고 제로 칼로리로 인식하기도 하지만 실질적으론 체내에 있는 균들이 식이섬유를 소화하면서 짧은 지방산을 생성시키기 때문에 제로 칼로리로 보는 건 무리가 있습니다. 하지만 섭취된 식이섬유 중에서 1g 당 1.5 칼로리의 소화 작용이 일어나기 때문에 일반적인 탄수화물의 반절에 못 미치는 양의 칼로리 섭취가 됩니다.결론: 다이어트시에 식이섬유를 많이 섭취하더라도 실질적으로 소화되는 양이 적기 때문에 다이어트 시 도움이 됩니다.1-19. 운동 전' metadata={'creationdate': '2025-10-21T00:07:26+09:00', 'page': 13, 'page_label': '14', 'pdfversion': '1.4', 'producer': 'Hancom PDF 1.3.0.538', 'creator': 'Hwp 2018 11.0.0.2129', 'author': '이용빈', 'moddate': '2025-10-21T00:07:26+09:00', 'source': 'data\\\\운동 전문 데이터_식이 조절_1차본.pdf', 'total_pages': 29}\n",
      "page_content='절을 한다고 며칠씩수분을 끊는 경우를 많이 보는데 수분은 대회 12시간 전부터 섭취하지 않아도 충분히 조절됩니다. (전날과 마찬가지로 다당류 탄수화물 위주로 섭취)시합 -3일이틀 전 섭취한 탄수화물의 양에서 2배를 늘려 섭취하고 이날부터 단당류 탄수화물을 섞어 줍니다. 다당류와 단당류의 비율은 1:2 정도로 다당류보다 단당류를 2배 정도 많이 섭취합니다. 예를 들어 탄수화물 600g을 섭취한다면 다당류는 200g, 단당류는 400g 비율이며 다당류는 과일이나 주스도 괜찮습니다.시합 -2일이제 마지막으로 탄수화물을 가장 많이 밀어 넣을 시간입니다. 이날은 염분이나 지방은 신경 쓰지 않고 섭취해도됩니다. 시합 전날 탄수화물이나 지방을 많이 섭취한다 하여도 시합 당일까지 지방이 절대 끼지 않으니 안심해도 됩니다. 몸이 꽉 찬 느낌이 들지 않으면 탄수화물 종류 상관없이 전날 섭취한 양의 1.5배 정도까지 늘려 줍니다.시합 -1일오트밀이나 고구마 같은 다당류 탄수화물을 평소 식사 정도로 해주고 하루에 6끼 식사를 한다면 2번째 식사 때 탄수화물 섭취를 조금 더 많이 해주고 수분을 섭취를 줄여주기 시작하고 저녁때부터 수분 섭취를 끊습니다.시합 당일평소와 같은 식사를 유지하며 탄수화물 섭취를 줄여 줍니다.1-21. 간단하게 신진대사 속도 높이기(출처: https://muscleandfitness.tistory.com/122 )사람마다 신체의 신진대사 속도가 다릅니다. 신진대 사라는 건 섭취한 칼로리를 연소시는 걸 의미하는데 대사가 빠르면 근육 생성, 지방 연소 속도 증가 등 여러 가지 장점들이 있습니다. 하지만 대사가 너무 빠른 경우 근육까지 같이 연소시켜 에너지원으로 사용하기 때문에 근육 증가가 어려워질 수 있습니다. 또 한 불규칙적인 대사 속도는 지방을 축적시키기도 하기 때문에 안정적인 대사를 유지하며 점차 속도를 높여주는 게 가장 좋은 방법입니다.다이어트 시 탄수화물과 지방 섭취를 제한하는 방법은 가장 흔히 알고 있는 방식입니다. 하지만 문제는 얼만큼을' metadata={'total_pages': 29, 'author': '이용빈', 'producer': 'Hancom PDF 1.3.0.538', 'pdfversion': '1.4', 'page_label': '16', 'page': 15, 'moddate': '2025-10-21T00:07:26+09:00', 'source': 'data\\\\운동 전문 데이터_식이 조절_1차본.pdf', 'creator': 'Hwp 2018 11.0.0.2129', 'creationdate': '2025-10-21T00:07:26+09:00'}\n"
     ]
    }
   ],
   "source": [
    "grader_prompt=PromptTemplate.from_template(\"\"\"\n",
    "                             당신은 검색된 문서가 사용자 질문과 관련이 있는지 평가하는 평가자 합니다. \\n\n",
    "                             문서에 사용자 질문과 관련된 키워드 또는 의미가 포함되어 있다면, 해당 문서를 관련성이 있다고 평가하십시오. \\n\n",
    "                             엄격한 테스트가 필요하지는 않지만, 목표는 잘못된 검색 결과를 것러내는 것 입니다.\\n\n",
    "                             문서가 질문과 관련이 있는지 여부를 나타내기 위해 'yes' or 'no' 로 이진 점수를 부여하십시오.\n",
    "\n",
    "                             Retrueved document: \\n {document} \\n\\n\n",
    "                             User question: {question}\n",
    "                             \"\"\")\n",
    "\n",
    "retrieval_grader = grader_prompt | structured_llm_grader\n",
    "question = '다이어트를 위한 단백질 섭취 방법'\n",
    "documents = retriever.invoke(question)\n",
    "\n",
    "for doc in documents:\n",
    "    print(doc)"
   ]
  },
  {
   "cell_type": "code",
   "execution_count": 9,
   "id": "397c5688",
   "metadata": {},
   "outputs": [
    {
     "name": "stdout",
     "output_type": "stream",
     "text": [
      "Document1: \n",
      "binary_score='yes'\n",
      "프로틴 셰이크 홀로 섭취대부분의 단백질 보충제는 단백질 함량 비율이 높기 때문에 프로틴 셰이크만 섭취했을 때는 한 가지 단백질 영양소로 치우치게 됩니다. 이때 소량의 견과류 혹은 약간의 탄수화물이라도 함께 섭취해주면 포만감을 높여주고 영양소 구성에도 훌륭해집니다.4. 무조건 WPI 만 고집흡수가 빠르다고 알려져 있는 Whey Protein Isolate, \n",
      "======================================\n",
      "\n",
      "\n",
      "Document2: \n",
      "binary_score='yes'\n",
      "제는 웨이트 트레이닝을 하는 사람들에게는 가장 기본적인 필수 제품으로 알려져 있습니다. 사용하는 순간부터 눈에 띄는 효과를 보거나 느낄 순 없지만 근육의 합성과 성장을 위해서는 절대로 빠져서는 안 될 영양소인 단백질을 보충해주기 때문에 필수적으로 사용하는 게 도움이 된다고 봅니다. 하지만 단순한 너무 소량의 단백질만 섭취한다거나 너무 다량을 섭취할 경우 원\n",
      "======================================\n",
      "\n",
      "\n",
      "Document3: \n",
      "binary_score='yes'\n",
      "시즌 기나 비시즌기 등의 시기에 맞게 사용한다면 최대의 효과를 볼 수 있습니다. 예를 들어 한번에 5-10g 의 양을 하루에 두 번 섭취한다면 자기 전과 식사 사이보다는 운동 전/후로 한 번씩 섭취하는 게 더 효과적인 것처럼 말이죠. 현재 자신의 목표에 도움이 될 수 있는 효과적인 섭취 방법을 연구하여 찾아보시기 바랍니다.섭취 시기아침 기상후: 수면 동안 \n",
      "======================================\n",
      "\n",
      "\n",
      "Document4: \n",
      "binary_score='yes'\n",
      "한 차이이기 때문에 차라리 20g씩 두 번에 걸쳐 섭취하는 게 40g 한 번의 섭취보다는 더 많은 단백질 합성을 일으킬 수 있습니다. 웨이 프로틴이나 일반적인 프로틴 파우더 섭취 시 류신을 추가로 섭취하게 되면 단백질 합성의 문을 열어주는 mTOR가 더 효율적으로 작동하여 근육 섬유의 합성을 촉진시킬 수 있습니다.결론: 많은 양의 단백질을 한 번에 섭취하는\n",
      "======================================\n",
      "\n",
      "\n",
      "Document5: \n",
      "binary_score='no'\n",
      "절을 한다고 며칠씩수분을 끊는 경우를 많이 보는데 수분은 대회 12시간 전부터 섭취하지 않아도 충분히 조절됩니다. (전날과 마찬가지로 다당류 탄수화물 위주로 섭취)시합 -3일이틀 전 섭취한 탄수화물의 양에서 2배를 늘려 섭취하고 이날부터 단당류 탄수화물을 섞어 줍니다. 다당류와 단당류의 비율은 1:2 정도로 다당류보다 단당류를 2배 정도 많이 섭취합니다. \n",
      "======================================\n",
      "\n",
      "\n",
      "Filtered documents: 4\n"
     ]
    }
   ],
   "source": [
    "filtered_docs = []\n",
    "\n",
    "for i, doc in enumerate(documents):\n",
    "    print(f'Document{i+1}: ')\n",
    "    is_relevant = retrieval_grader.invoke({\"question\": question, \"document\": doc.page_content})\n",
    "    print(is_relevant)\n",
    "    print(doc.page_content[:200])\n",
    "    print(\"======================================\\n\\n\")\n",
    "\n",
    "    if is_relevant.binary_score == \"yes\":\n",
    "        filtered_docs.append(doc)\n",
    "print(f'Filtered documents: {len(filtered_docs)}')"
   ]
  },
  {
   "cell_type": "code",
   "execution_count": 10,
   "id": "5e91b7b8",
   "metadata": {},
   "outputs": [
    {
     "data": {
      "text/plain": [
       "AIMessage(content='다이어트를 위한 단백질 섭취 방법에는 여러 가지가 있습니다. 다음은 효과적인 단백질 섭취 방법입니다:\\n\\n1. **프로틴 셰이크와 함께하는 건강한 지방 및 탄수화물**: 프로틴 셰이크를 섭취할 때, 소량의 견과류나 약간의 탄수화물과 함께 섭취하면 포만감을 높일 수 있습니다. 이는 단백질 영양소의 균형을 맞추는 데도 도움이 됩니다.\\n\\n2. **섭취 시기 고려하기**: 운동 직후와 기상 직후에 Whey Protein Isolate(WPI)를 섭취하면 효과적입니다. WPI는 빠르게 흡수되므로 낮이나 저녁 시간에는 복합 단백질을 섭취하는 것이 더 효율적입니다.\\n\\n3. **식사 사이에 단백질 보충**: 일반적인 식사에서 단백질이 충분히 섭취되지 않았다면, 프로틴 셰이크를 식사 사이에 섭취하는 것이 좋습니다. 그러나 식사 직후에 추가로 프로틴 셰이크를 마시는 것은 불필요한 지방 축적 또는 소화 불량을 초래할 수 있습니다.\\n\\n4. **적정량 섭취**: 한번에 너무 많은 단백질을 섭취하면 소화가 되지 않아 불필요하게 배출될 수 있습니다. 두 서빙을 섭취할 경우, 각 서빙 사이에 시간 차이를 두고 섭취하는 것이 좋습니다.\\n\\n5. **달걀 섭취**: 다이어트 중에는 달걀도 좋은 단백질 공급원입니다. 특히 달걀 흰자는 순수한 단백질 성분으로 구성되어 있어, 탄수화물이나 지방을 최소화할 수 있습니다.\\n\\n단백질 섭취에서 가장 중요한 것은 적절한 시기와 양을 관리하여 체중 감소 목표에 부합하도록 하는 것입니다. 이를 통해 보다 효과적인 다이어트를 할 수 있습니다.', additional_kwargs={'refusal': None}, response_metadata={'token_usage': {'completion_tokens': 437, 'prompt_tokens': 2605, 'total_tokens': 3042, 'completion_tokens_details': {'accepted_prediction_tokens': 0, 'audio_tokens': 0, 'reasoning_tokens': 0, 'rejected_prediction_tokens': 0}, 'prompt_tokens_details': {'audio_tokens': 0, 'cached_tokens': 0}}, 'model_provider': 'openai', 'model_name': 'gpt-4o-mini-2024-07-18', 'system_fingerprint': 'fp_560af6e559', 'id': 'chatcmpl-CTiOIPSF22rn5J9oMOX6JqxlgKoNM', 'service_tier': 'default', 'finish_reason': 'stop', 'logprobs': None}, id='lc_run--8ecf7575-45f7-4382-8001-8cceb1266bd0-0', usage_metadata={'input_tokens': 2605, 'output_tokens': 437, 'total_tokens': 3042, 'input_token_details': {'audio': 0, 'cache_read': 0}, 'output_token_details': {'audio': 0, 'reasoning': 0}})"
      ]
     },
     "execution_count": 10,
     "metadata": {},
     "output_type": "execute_result"
    }
   ],
   "source": [
    "rag_generate_system = \"\"\"\n",
    "너는 사용자의 질문에 대해 주어진 context에 기반하여 답변하는 도시 계획 전문가이다.\n",
    "주어진 context는 vectorstore에게 검색된 결과이다.\n",
    "주어진 context를 기반으로 사용자의 question에 대해 답변하라.\n",
    "\n",
    "==========================================\n",
    "question: {question}\n",
    "context: {context}\n",
    "\n",
    "\"\"\"\n",
    "\n",
    "rag_prompt = PromptTemplate(input_variables=['question', 'context'], template=rag_generate_system)\n",
    "\n",
    "rag_chain = rag_prompt | model\n",
    "\n",
    "question = \"다이어트를 위한 단백질 섭취 방법\"\n",
    "\n",
    "rag_chain.invoke({'question': question, 'context': filtered_docs})"
   ]
  },
  {
   "cell_type": "code",
   "execution_count": 12,
   "id": "00418a36",
   "metadata": {},
   "outputs": [],
   "source": [
    "from  typing import List\n",
    "from typing_extensions import TypedDict\n",
    "\n",
    "class GraphState(TypedDict):\n",
    "    question: str\n",
    "    generation: str\n",
    "    documents: List[str]\n",
    "\n",
    "def route_question(state):\n",
    "    \"\"\"\n",
    "    사용자의 질문을 vectorstore 또는 casual_talk로 라우팅합니다.\n",
    "    \n",
    "    Args:\n",
    "        state(dict): 현재 graph state\n",
    "\n",
    "    return:\n",
    "        state(dict): 라우팅된 데이터 소스와 사용자 질문을 포함하는 새로운 graph state\n",
    "    \"\"\"\n",
    "\n",
    "    print('------ROUTE------')\n",
    "    question = state['question']\n",
    "\n",
    "    route = question_router.invoke({\"question\":question})\n",
    "\n",
    "    return route.datasource\n"
   ]
  },
  {
   "cell_type": "code",
   "execution_count": 13,
   "id": "bf09d035",
   "metadata": {},
   "outputs": [],
   "source": [
    "def retrieve(state):\n",
    "    \"\"\"\n",
    "    vectorstore에서 질문에 대한 문서를 검색합니다.\n",
    "    \n",
    "    Args:\n",
    "        state(dict): 현재 graph state\n",
    "\n",
    "    return:\n",
    "        state(dict): 검색된 문서와 사용자 질문을 포함하는 새로운 graph state\n",
    "    \"\"\"\n",
    "    print('------RETRIEVE------')\n",
    "    \n",
    "    question = state['question']\n",
    "\n",
    "    documents = retriever.invoke(question)\n",
    "\n",
    "    return{\"documents\": documents, \"question\": question}"
   ]
  },
  {
   "cell_type": "code",
   "execution_count": 14,
   "id": "35f166ba",
   "metadata": {},
   "outputs": [],
   "source": [
    "def grade_documents(state):\n",
    "    \"\"\"\n",
    "    검색된 문서를 평가하여 질문과 관련성이 있는지 확인합니다.\n",
    "    Args:\n",
    "        state(dict): 현재 graph state\n",
    "\n",
    "    return:\n",
    "        state(dict): 관련성이 있는 문서와 사용자 질문을 포함하는 새로운 graph state\n",
    "    \"\"\"\n",
    "    print('------GRADE------')\n",
    "    \n",
    "    question = state['question']\n",
    "\n",
    "    documents = retriever.invoke(question)\n",
    "\n",
    "    filtered_docs = []\n",
    "    \n",
    "    for i, doc in enumerate(documents):\n",
    "        is_relevant = retrieval_grader.invoke({\"documents\": documents, \"question\": doc.page_content})\n",
    "        if is_relevant.binary_score == \"yes\":\n",
    "            filtered_docs.append(doc)\n",
    "    return {\"documents\": filtered_docs, \"question\": question}\n"
   ]
  },
  {
   "cell_type": "code",
   "execution_count": 15,
   "id": "76a43151",
   "metadata": {},
   "outputs": [],
   "source": [
    "def generate(state):\n",
    "    \"\"\"\n",
    "    LLM을 사용하여 문서화 사용자 질문에 대한 답변을 생성합니다.\n",
    "\n",
    "\n",
    "    Args:\n",
    "        state(dict): 현재 graph state\n",
    "\n",
    "    return:\n",
    "        state(dict): 관련성이 있는 문서와 사용자 질문을 포함하는 새로운 graph state\n",
    "    \"\"\"\n",
    "    print('------GENERATE------')\n",
    "    \n",
    "    question = state['question']\n",
    "\n",
    "    documents = state['documents']\n",
    "\n",
    "    generation = rag_chain.invoke({\"question\": question, \"context\": documents})\n",
    "\n",
    "    return{\n",
    "        \"documents\": documents,\n",
    "        \"question\": question,\n",
    "        \"generation\": generation\n",
    "    }"
   ]
  },
  {
   "cell_type": "code",
   "execution_count": 16,
   "id": "0c0e6166",
   "metadata": {},
   "outputs": [],
   "source": [
    "def casual_talk(state):\n",
    "    \"\"\"\n",
    "    일상 대화를 위한 답변을 생성합니다.\n",
    "\n",
    "    Args:\n",
    "        state(dict): 현재 graph state\n",
    "    \n",
    "    return:\n",
    "        state(dict): 일상 대화 결과와 질문을 포함하는 새로운 graph state\n",
    "    \"\"\"\n",
    "    print('--------CASUAL TALK--------')\n",
    "\n",
    "    question = state['question']\n",
    "    generation = model.invoke(question)\n",
    "    return {\n",
    "        \"question\": question,\n",
    "        \"generation\": generation\n",
    "    }"
   ]
  },
  {
   "cell_type": "code",
   "execution_count": 18,
   "id": "a40cc865",
   "metadata": {},
   "outputs": [],
   "source": [
    "from langgraph.graph import START, StateGraph, END\n",
    "\n",
    "workflow = StateGraph(GraphState)\n",
    "\n",
    "workflow.add_node(\"retrieve\", retrieve)\n",
    "workflow.add_node('grade_documents', grade_documents)\n",
    "workflow.add_node('generate', generate)\n",
    "workflow.add_node('casual_talk', casual_talk)\n",
    "\n",
    "workflow.add_conditional_edges(\n",
    "    START,\n",
    "    route_question,\n",
    "    {\n",
    "        \"vectorstore\": \"retrieve\",\n",
    "        \"casual_talk\": \"casual_talk\"\n",
    "    }\n",
    ")\n",
    "\n",
    "workflow.add_edge('casual_talk', END)\n",
    "workflow.add_edge('retrieve', 'grade_documents')\n",
    "workflow.add_edge('grade_documents', 'generate')\n",
    "workflow.add_edge('generate', END)\n",
    "\n",
    "app = workflow.compile()"
   ]
  },
  {
   "cell_type": "code",
   "execution_count": 19,
   "id": "09ba9343",
   "metadata": {},
   "outputs": [
    {
     "data": {
      "image/png": "[encoded data removed]",
      "text/plain": [
       "<IPython.core.display.Image object>"
      ]
     },
     "metadata": {},
     "output_type": "display_data"
    }
   ],
   "source": [
    "from IPython.display import Image, display\n",
    "\n",
    "try:\n",
    "    display(Image(app.get_graph().draw_mermaid_png()))\n",
    "\n",
    "except Exception:\n",
    "    pass"
   ]
  }
 ],
 "metadata": {
  "kernelspec": {
   "display_name": "chatbot",
   "language": "python",
   "name": "python3"
  },
  "language_info": {
   "codemirror_mode": {
    "name": "ipython",
    "version": 3
   },
   "file_extension": ".py",
   "mimetype": "text/x-python",
   "name": "python",
   "nbconvert_exporter": "python",
   "pygments_lexer": "ipython3",
   "version": "3.12.12"
  }
 },
 "nbformat": 4,
 "nbformat_minor": 5
}
