{
 "cells": [
  {
   "cell_type": "code",
   "execution_count": 11,
   "id": "821bfa71",
   "metadata": {},
   "outputs": [
    {
     "name": "stdout",
     "output_type": "stream",
     "text": [
      "To effectively incorporate squats into your fitness routine, follow this organized approach:\n",
      "\n",
      "1. **Starting Point: Bodyweight Squats**\n",
      "   - Begin with bodyweight squats to master proper form without added resistance.\n",
      "   - Focus on controlled movements and maintaining correct posture.\n",
      "\n",
      "2. **Form Basics:**\n",
      "   - Stand with feet shoulder-width apart, toes slightly outward.\n",
      "   - Keep chest up, shoulders back, and engage core muscles.\n",
      "   - Lower body as if sitting in a chair, ensuring thighs are parallel to the ground or as low as comfortable without pain.\n",
      "\n",
      "3. **Movement Execution:**\n",
      "   - Bend at hips and knees equally; keep knees aligned with toes.\n",
      "   - Distribute weight on heels and mid-foot during ascent.\n",
      "   - Exhale while returning to starting position, engaging glutes and quads.\n",
      "\n",
      "4. **Breathing Technique:**\n",
      "   - Inhale during the lowering phase; exhale as you rise.\n",
      "\n",
      "5. **Avoiding Common Mistakes:**\n",
      "   - Prevent knees from caving inward or extending past toes.\n",
      "   - Maintain a straight back throughout the movement.\n",
      "   - Engage core muscles to support proper form and avoid rounding the spine.\n",
      "\n",
      "6. **Progression: Adding Resistance**\n",
      "   - Once comfortable with bodyweight squats, gradually introduce dumbbells.\n",
      "   - Hold dumbbells by your sides or at shoulder height for variation.\n",
      "   - Barbell squats are more advanced; consider them after mastering other forms.\n",
      "\n",
      "7. **Safety and Preparation:**\n",
      "   - Consult a doctor if you have knee issues before starting squats.\n",
      "   - Warm up with light cardio and dynamic stretches to prepare muscles.\n",
      "   - Cool down with stretching of quads, hamstrings, and calves for recovery.\n",
      "\n",
      "8. **Incorporation into Routine:**\n",
      "   - Perform squats 3 times weekly with rest days between sessions.\n",
      "   - Focus on quality over quantity, ensuring controlled movements.\n",
      "\n",
      "9. **Resistance Adjustment:**\n",
      "   - Increase weight when you can comfortably complete 12-15 reps.\n",
      "   - Reduce resistance if form deteriorates or difficulty arises.\n",
      "\n",
      "10. **Benefits Beyond Muscle Building:**\n",
      "    - Squats enhance balance, coordination, and lower body strength, beneficial for daily activities and sports.\n",
      "\n",
      "By following these guidelines, you can safely and effectively incorporate squats into your workout routine, promoting overall strength and fitness while minimizing injury risk. \n",
      "대화가 종료되었습니다.\n"
     ]
    }
   ],
   "source": [
    "from langchain_ollama import ChatOllama\n",
    "from langchain_core.messages import SystemMessage, HumanMessage, AIMessage\n",
    "\n",
    "llm = ChatOllama(model='deepseek-r1:32b')\n",
    "\n",
    "messages = [\n",
    "    SystemMessage(content=\"너는 사용자의 질문에 한국어로 대답하는 유능한 헬스케어 전문가야.\"),\n",
    "]\n",
    "\n",
    "while True:\n",
    "    user_input = input(\"사용자: \").strip()\n",
    "    if user_input.lower() in ['종료', 'exit', 'quit']:\n",
    "        print(\"대화가 종료되었습니다.\")\n",
    "        break\n",
    "\n",
    "    messages.append(HumanMessage(content=user_input))\n",
    "    response = llm.stream(messages)\n",
    "    \n",
    "    ai_message = None\n",
    "    \n",
    "    for chunk in response:\n",
    "        print(chunk.content, end='', flush=True)\n",
    "        if ai_message is None:\n",
    "            ai_message = chunk\n",
    "        else:\n",
    "            ai_message += chunk\n",
    "    print(\" \")\n",
    "    \n",
    "    messages_only = ai_message.content.split(\"</think>\")[0].strip()\n",
    "    messages.append(AIMessage(content=messages_only))\n",
    "\n",
    "\n"
   ]
  },
  {
   "cell_type": "code",
   "execution_count": 10,
   "id": "c485019f",
   "metadata": {},
   "outputs": [
    {
     "data": {
      "text/plain": [
       "'스쿼트는 하체 근육을 강화하는 데 매우 효과적인 운동입니다. 다음 단계에 따라 안전하고 올바르게 수행할 수 있도록 설명드리겠습니다.\\n\\n### 1. 준비 자세\\n- **서는 자세**:双脚을 어깨너비로 벌리고, 발 앞부분을 약간 바깥으로 향하세요.\\n- **코어 활성화**: живот의 근육을 조여서 코어를 engages.\\n\\n### 2. 스쿼트 동작\\n1. **팔 위치**: 팔은 몸 옆에 폈다가, 머리를 감싸는 듯이 풀업할 수 있도록 뒤로 올릴 수 있습니다(몸의 균형을 유지하기 위해).\\n2. **สะบัก과 lutut의 gerak**: pinggul을 Mundurkan (뒤로 젖히듯이) dan lutut yang membengkok (knee flexion),同时 knees should track over the toes.\\n3. **최저점**: 양쪽 무릎이 발끝보다는 뒤에 있도록 최소한의 깊이에서 머물러야 합니다(hips should be at least parallel to the ground).\\n\\n### 3. 회복 단계\\n- **팔 사용**: 만약槓을 들고 있다면, 팔은 몸을 일으키는 데 도움을 주지만, 대부분의 힘은 다리와 엉덩이에서 나올 수 있도록 해야 합니다.\\n- **발뒤꿈치를 밀어붙이기**:踵部发力，缓慢站起。\\n\\n### 4. 注意事項\\n- 背部不要弯曲：始终保持脊柱中立位， chest up, back straight.\\n- 不要膝盖内扣： knees should not cave inwards; they should stay aligned with toes.\\n- 熱身很重要：必ずウォーミングアップをしてからスクワットを始めるようにしてください。\\n\\n올바른 자세를 유지하는 것이 중요하며, 만약 가능하다면 전문가의지도 하에 처음 시작하시는 것을 추천합니다.'"
      ]
     },
     "execution_count": 10,
     "metadata": {},
     "output_type": "execute_result"
    }
   ],
   "source": [
    "ai_message.content.split(\"</think>\")[0]"
   ]
  }
 ],
 "metadata": {
  "kernelspec": {
   "display_name": "chatbot",
   "language": "python",
   "name": "python3"
  },
  "language_info": {
   "codemirror_mode": {
    "name": "ipython",
    "version": 3
   },
   "file_extension": ".py",
   "mimetype": "text/x-python",
   "name": "python",
   "nbconvert_exporter": "python",
   "pygments_lexer": "ipython3",
   "version": "3.12.12"
  }
 },
 "nbformat": 4,
 "nbformat_minor": 5
}
